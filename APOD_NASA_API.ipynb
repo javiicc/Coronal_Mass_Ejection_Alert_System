{
 "cells": [
  {
   "cell_type": "code",
   "execution_count": 2,
   "id": "d82db3d9-6b6d-46a1-ba31-eb02a499ab0f",
   "metadata": {},
   "outputs": [],
   "source": [
    "import requests"
   ]
  },
  {
   "cell_type": "code",
   "execution_count": 17,
   "id": "bb7660c4-584f-44e8-be0f-c17bdafae9cd",
   "metadata": {},
   "outputs": [],
   "source": [
    "params={'date': '2022-02-14'}\n",
    "\n",
    "url = 'https://api.nasa.gov/planetary/apod?api_key=DEMO_KEY'\n",
    "r = requests.get(url, params)\n",
    "data = r.json()"
   ]
  },
  {
   "cell_type": "code",
   "execution_count": 18,
   "id": "2b4afe62-7035-48a6-84ee-de236aceb907",
   "metadata": {},
   "outputs": [
    {
     "data": {
      "text/plain": [
       "{'copyright': 'Adam Jensen',\n",
       " 'date': '2022-02-14',\n",
       " 'explanation': \"What excites the Heart Nebula? First, the large emission nebula dubbed IC 1805 looks, in whole, like a human heart.  Its shape perhaps fitting of the Valentine's Day, this heart glows brightly in red light emitted by its most prominent element: excited hydrogen.  The red glow and the larger shape are all created by a small group of stars near the nebula's center.  In the heart of the Heart Nebula are young stars from the open star cluster Melotte 15 that are eroding away several picturesque dust pillars with their energetic light and winds. The open cluster of stars contains a few bright stars nearly 50 times the mass of our Sun, many dim stars only a fraction of the mass of our Sun, and an absent microquasar that was expelled millions of years ago.  The Heart Nebula is located about 7,500 light years away toward the constellation of the mythological Queen of Aethiopia (Cassiopeia).\",\n",
       " 'hdurl': 'https://apod.nasa.gov/apod/image/2202/HeartB_Jensen_3925.jpg',\n",
       " 'media_type': 'image',\n",
       " 'service_version': 'v1',\n",
       " 'title': 'In the Heart of the Heart Nebula',\n",
       " 'url': 'https://apod.nasa.gov/apod/image/2202/HeartB_Jensen_960.jpg'}"
      ]
     },
     "execution_count": 18,
     "metadata": {},
     "output_type": "execute_result"
    }
   ],
   "source": [
    "data"
   ]
  },
  {
   "cell_type": "code",
   "execution_count": 19,
   "id": "9b26a573-2c26-41b4-a3c0-8793422af04c",
   "metadata": {},
   "outputs": [
    {
     "data": {
      "text/plain": [
       "'https://apod.nasa.gov/apod/image/2202/HeartB_Jensen_960.jpg'"
      ]
     },
     "execution_count": 19,
     "metadata": {},
     "output_type": "execute_result"
    }
   ],
   "source": [
    "data['url']"
   ]
  },
  {
   "cell_type": "code",
   "execution_count": 20,
   "id": "fb2fa68b-9985-4ce3-8f56-3662d72accc8",
   "metadata": {},
   "outputs": [
    {
     "data": {
      "text/plain": [
       "'https://apod.nasa.gov/apod/image/2202/HeartB_Jensen_3925.jpg'"
      ]
     },
     "execution_count": 20,
     "metadata": {},
     "output_type": "execute_result"
    }
   ],
   "source": [
    "data['hdurl']"
   ]
  },
  {
   "cell_type": "code",
   "execution_count": null,
   "id": "292f91e8-22a7-4283-8a12-3a5fa290169b",
   "metadata": {},
   "outputs": [],
   "source": []
  },
  {
   "cell_type": "code",
   "execution_count": null,
   "id": "95fef2bf-ff96-4568-97ab-9b5bf4c52dfa",
   "metadata": {},
   "outputs": [],
   "source": []
  }
 ],
 "metadata": {
  "kernelspec": {
   "display_name": "Python 3 (ipykernel)",
   "language": "python",
   "name": "python3"
  },
  "language_info": {
   "codemirror_mode": {
    "name": "ipython",
    "version": 3
   },
   "file_extension": ".py",
   "mimetype": "text/x-python",
   "name": "python",
   "nbconvert_exporter": "python",
   "pygments_lexer": "ipython3",
   "version": "3.9.7"
  }
 },
 "nbformat": 4,
 "nbformat_minor": 5
}
