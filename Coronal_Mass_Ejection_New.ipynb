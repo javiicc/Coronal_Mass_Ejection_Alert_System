{
 "cells": [
  {
   "cell_type": "code",
   "execution_count": 1,
   "id": "0a998be0-ef77-46d3-9440-152243a63b60",
   "metadata": {},
   "outputs": [],
   "source": [
    "import requests\n",
    "from datetime import date"
   ]
  },
  {
   "cell_type": "markdown",
   "id": "cc9adb6f-1402-4983-8dc4-500d839a80b8",
   "metadata": {},
   "source": [
    "## Recent events"
   ]
  },
  {
   "cell_type": "markdown",
   "id": "df5ad62c-bc84-496b-8f0d-337ce0a86c0e",
   "metadata": {},
   "source": [
    "[CME info](https://www.swpc.noaa.gov/phenomena/coronal-mass-ejections#:~:text=CMEs%20travel%20outward%20from%20the,take%20several%20days%20to%20arrive.)\n",
    "\n",
    "[CME info2](https://earth-planets-space.springeropen.com/articles/10.1186/s40623-020-01345-5#:~:text=It%20takes%20about%202%E2%80%934,the%20Earth%20from%20their%20onset.)\n",
    "\n",
    "[CME info3](https://earth-planets-space.springeropen.com/articles/10.1186/s40623-019-1019-5)"
   ]
  },
  {
   "cell_type": "code",
   "execution_count": 263,
   "id": "50fb33ca-9d67-4183-9cdd-8a457eb5070e",
   "metadata": {},
   "outputs": [],
   "source": [
    "today = f'{date.today()}'\n",
    "# print(today)\n",
    "\n",
    "try:\n",
    "    params={'startDate': '2021-10-27',\n",
    "            'endDate': '2021-10-31'\n",
    "           }\n",
    "\n",
    "    url = 'https://kauai.ccmc.gsfc.nasa.gov/DONKI/WS/get/CME?'\n",
    "    r = requests.get(url, params) #, params\n",
    "    data2 = r.json()\n",
    "except ValueError: # includes simplejson.decoder.JSONDecodeError   JSONDecodeError\n",
    "    print('Still no new events today')"
   ]
  },
  {
   "cell_type": "code",
   "execution_count": 264,
   "id": "56e5ed90-be99-4959-b24d-93186cc76f83",
   "metadata": {},
   "outputs": [
    {
     "data": {
      "text/plain": [
       "7"
      ]
     },
     "execution_count": 264,
     "metadata": {},
     "output_type": "execute_result"
    }
   ],
   "source": [
    "len(data2)"
   ]
  },
  {
   "cell_type": "code",
   "execution_count": null,
   "id": "3e634ca6-898e-4c09-8ca8-ccdab245ff05",
   "metadata": {},
   "outputs": [],
   "source": []
  },
  {
   "cell_type": "code",
   "execution_count": 219,
   "id": "06e69030-4a12-476a-a89c-18e3930193c9",
   "metadata": {},
   "outputs": [
    {
     "data": {
      "text/plain": [
       "10"
      ]
     },
     "execution_count": 219,
     "metadata": {},
     "output_type": "execute_result"
    }
   ],
   "source": [
    "len(data[-1])"
   ]
  },
  {
   "cell_type": "code",
   "execution_count": 209,
   "id": "25b7295d-7e5a-4d05-be53-e1beb775de73",
   "metadata": {},
   "outputs": [
    {
     "data": {
      "text/plain": [
       "'2022-02-17T21:24:00-CME-001'"
      ]
     },
     "execution_count": 209,
     "metadata": {},
     "output_type": "execute_result"
    }
   ],
   "source": [
    "data[-1]['activityID']"
   ]
  },
  {
   "cell_type": "code",
   "execution_count": null,
   "id": "e2387d6a-4c08-4523-8a71-dcfb4b9baf0e",
   "metadata": {},
   "outputs": [],
   "source": []
  },
  {
   "cell_type": "code",
   "execution_count": null,
   "id": "78374267-c796-4236-8e3e-938d8d60ee4c",
   "metadata": {},
   "outputs": [],
   "source": []
  },
  {
   "cell_type": "code",
   "execution_count": 78,
   "id": "00d3f365-68c7-4616-b0ec-78afad898d7c",
   "metadata": {},
   "outputs": [],
   "source": [
    "n = -8"
   ]
  },
  {
   "cell_type": "code",
   "execution_count": 79,
   "id": "6fded117-ad93-4afc-9410-28340e3d28a3",
   "metadata": {},
   "outputs": [
    {
     "name": "stdout",
     "output_type": "stream",
     "text": [
      "activityID\n",
      "catalog\n",
      "startTime\n",
      "sourceLocation\n",
      "activeRegionNum\n",
      "link\n",
      "note\n",
      "instruments\n",
      "cmeAnalyses\n",
      "linkedEvents\n"
     ]
    }
   ],
   "source": [
    "for key in data[n]:\n",
    "    print(key)"
   ]
  },
  {
   "cell_type": "code",
   "execution_count": 80,
   "id": "64237422-4154-46cd-9c70-91c21f4ebf2e",
   "metadata": {},
   "outputs": [
    {
     "data": {
      "text/plain": [
       "'2022-02-13T14:24:00-CME-001'"
      ]
     },
     "execution_count": 80,
     "metadata": {},
     "output_type": "execute_result"
    }
   ],
   "source": [
    "data[n]['activityID']"
   ]
  },
  {
   "cell_type": "code",
   "execution_count": 81,
   "id": "84ff99c8-40b7-4247-92e4-9e786f844c20",
   "metadata": {},
   "outputs": [
    {
     "data": {
      "text/plain": [
       "'M2M_CATALOG'"
      ]
     },
     "execution_count": 81,
     "metadata": {},
     "output_type": "execute_result"
    }
   ],
   "source": [
    "data[n]['catalog']"
   ]
  },
  {
   "cell_type": "code",
   "execution_count": 82,
   "id": "4d259dec-78ec-49e9-aa43-a7bb32cacf3e",
   "metadata": {},
   "outputs": [
    {
     "data": {
      "text/plain": [
       "'2022-02-13T14:24Z'"
      ]
     },
     "execution_count": 82,
     "metadata": {},
     "output_type": "execute_result"
    }
   ],
   "source": [
    "data[n]['startTime']"
   ]
  },
  {
   "cell_type": "code",
   "execution_count": 83,
   "id": "e9131f6c-f918-41e2-a68f-7dfd551bab19",
   "metadata": {},
   "outputs": [
    {
     "data": {
      "text/plain": [
       "''"
      ]
     },
     "execution_count": 83,
     "metadata": {},
     "output_type": "execute_result"
    }
   ],
   "source": [
    "data[n]['sourceLocation']"
   ]
  },
  {
   "cell_type": "code",
   "execution_count": 84,
   "id": "2bb4e66d-9f22-4db3-9408-bf1d6a415063",
   "metadata": {},
   "outputs": [],
   "source": [
    "data[n]['activeRegionNum']"
   ]
  },
  {
   "cell_type": "code",
   "execution_count": 85,
   "id": "af9975dd-cc25-42a2-9e8c-cb461bb66496",
   "metadata": {},
   "outputs": [
    {
     "data": {
      "text/plain": [
       "'https://kauai.ccmc.gsfc.nasa.gov/DONKI/view/CME/19174/-1'"
      ]
     },
     "execution_count": 85,
     "metadata": {},
     "output_type": "execute_result"
    }
   ],
   "source": [
    "data[n]['link']"
   ]
  },
  {
   "cell_type": "code",
   "execution_count": 86,
   "id": "5ec0ce7b-aa55-4e64-b118-3c77a4e8ed25",
   "metadata": {},
   "outputs": [
    {
     "data": {
      "text/plain": [
       "'Faint event w/o clear source location (source is probably behind the W limb - possibly a faint eruption behind the NW limb in AIA 304 after 12:00Z)'"
      ]
     },
     "execution_count": 86,
     "metadata": {},
     "output_type": "execute_result"
    }
   ],
   "source": [
    "data[n]['note']"
   ]
  },
  {
   "cell_type": "code",
   "execution_count": 87,
   "id": "c62e3069-0923-4b94-83ec-667f9b986567",
   "metadata": {},
   "outputs": [
    {
     "data": {
      "text/plain": [
       "[{'displayName': 'SOHO: LASCO/C2'}, {'displayName': 'STEREO A: SECCHI/COR2'}]"
      ]
     },
     "execution_count": 87,
     "metadata": {},
     "output_type": "execute_result"
    }
   ],
   "source": [
    "data[n]['instruments']"
   ]
  },
  {
   "cell_type": "code",
   "execution_count": 88,
   "id": "a3394538-6e6c-44be-b879-9402525c6568",
   "metadata": {},
   "outputs": [
    {
     "data": {
      "text/plain": [
       "'https://kauai.ccmc.gsfc.nasa.gov/DONKI/view/WSA-ENLIL/19177/-1'"
      ]
     },
     "execution_count": 88,
     "metadata": {},
     "output_type": "execute_result"
    }
   ],
   "source": [
    "data[n]['cmeAnalyses'][0]['enlilList'][0]['link']"
   ]
  },
  {
   "cell_type": "code",
   "execution_count": 231,
   "id": "7e0bdca0-bf86-43f3-8b9b-64ab784f1da9",
   "metadata": {},
   "outputs": [
    {
     "data": {
      "text/plain": [
       "7"
      ]
     },
     "execution_count": 231,
     "metadata": {},
     "output_type": "execute_result"
    }
   ],
   "source": [
    "len(data)"
   ]
  },
  {
   "cell_type": "code",
   "execution_count": 234,
   "id": "d03b5cd9-b917-4689-90c9-1fc70c0ac4f8",
   "metadata": {},
   "outputs": [
    {
     "name": "stdout",
     "output_type": "stream",
     "text": [
      "2017-09-06T10:00:00-CME-001\n",
      "https://kauai.ccmc.gsfc.nasa.gov/DONKI/view/WSA-ENLIL/13031/-1\n",
      "2017-09-06T12:24:00-CME-001\n",
      "https://kauai.ccmc.gsfc.nasa.gov/DONKI/view/WSA-ENLIL/13031/-1\n",
      "2017-09-06T13:09:00-CME-001\n",
      "https://kauai.ccmc.gsfc.nasa.gov/DONKI/view/WSA-ENLIL/13031/-1\n",
      "2017-09-07T10:48:00-CME-001\n",
      "https://kauai.ccmc.gsfc.nasa.gov/DONKI/view/WSA-ENLIL/13078/-1\n",
      "2017-09-07T15:12:00-CME-001\n",
      "https://kauai.ccmc.gsfc.nasa.gov/DONKI/view/WSA-ENLIL/13078/-1\n",
      "2017-09-07T22:54:00-CME-001\n"
     ]
    },
    {
     "ename": "TypeError",
     "evalue": "'NoneType' object is not subscriptable",
     "output_type": "error",
     "traceback": [
      "\u001b[0;31m---------------------------------------------------------------------------\u001b[0m",
      "\u001b[0;31mTypeError\u001b[0m                                 Traceback (most recent call last)",
      "Input \u001b[0;32mIn [234]\u001b[0m, in \u001b[0;36m<module>\u001b[0;34m\u001b[0m\n\u001b[1;32m      1\u001b[0m \u001b[38;5;28;01mfor\u001b[39;00m event \u001b[38;5;129;01min\u001b[39;00m data:\n\u001b[1;32m      2\u001b[0m     \u001b[38;5;28mprint\u001b[39m(event[\u001b[38;5;124m'\u001b[39m\u001b[38;5;124mactivityID\u001b[39m\u001b[38;5;124m'\u001b[39m])\n\u001b[0;32m----> 3\u001b[0m     \u001b[38;5;28mprint\u001b[39m(\u001b[43mevent\u001b[49m\u001b[43m[\u001b[49m\u001b[38;5;124;43m'\u001b[39;49m\u001b[38;5;124;43mcmeAnalyses\u001b[39;49m\u001b[38;5;124;43m'\u001b[39;49m\u001b[43m]\u001b[49m\u001b[43m[\u001b[49m\u001b[38;5;241;43m0\u001b[39;49m\u001b[43m]\u001b[49m\u001b[43m[\u001b[49m\u001b[38;5;124;43m'\u001b[39;49m\u001b[38;5;124;43menlilList\u001b[39;49m\u001b[38;5;124;43m'\u001b[39;49m\u001b[43m]\u001b[49m\u001b[43m[\u001b[49m\u001b[38;5;241;43m0\u001b[39;49m\u001b[43m]\u001b[49m[\u001b[38;5;124m'\u001b[39m\u001b[38;5;124mlink\u001b[39m\u001b[38;5;124m'\u001b[39m])\n",
      "\u001b[0;31mTypeError\u001b[0m: 'NoneType' object is not subscriptable"
     ]
    }
   ],
   "source": [
    "for event in data:\n",
    "    print(event['activityID'])\n",
    "    print(event['cmeAnalyses'][0]['enlilList'][0]['link'])"
   ]
  },
  {
   "cell_type": "code",
   "execution_count": 236,
   "id": "d935c571-4a64-492c-85a7-7aa0acbd51e9",
   "metadata": {},
   "outputs": [
    {
     "data": {
      "text/plain": [
       "'2017-09-07T22:54:00-CME-001'"
      ]
     },
     "execution_count": 236,
     "metadata": {},
     "output_type": "execute_result"
    }
   ],
   "source": [
    "data[5]['activityID']"
   ]
  },
  {
   "cell_type": "code",
   "execution_count": 241,
   "id": "401eee36-288c-4fbd-b5d1-af8bc22e271c",
   "metadata": {},
   "outputs": [
    {
     "data": {
      "text/plain": [
       "[{'time21_5': '2017-09-06T11:43Z',\n",
       "  'latitude': -8.0,\n",
       "  'longitude': 83.0,\n",
       "  'halfAngle': 24.0,\n",
       "  'speed': 260.0,\n",
       "  'type': 'S',\n",
       "  'isMostAccurate': True,\n",
       "  'note': '',\n",
       "  'levelOfData': 0,\n",
       "  'link': 'https://kauai.ccmc.gsfc.nasa.gov/DONKI/view/CMEAnalysis/13027/-1',\n",
       "  'enlilList': [{'modelCompletionTime': '2017-09-06T23:47Z',\n",
       "    'au': 2.0,\n",
       "    'estimatedShockArrivalTime': '2017-09-08T18:35Z',\n",
       "    'estimatedDuration': 32.0,\n",
       "    'rmin_re': 5.5,\n",
       "    'kp_18': None,\n",
       "    'kp_90': 4,\n",
       "    'kp_135': 5,\n",
       "    'kp_180': 6,\n",
       "    'isEarthGB': False,\n",
       "    'link': 'https://kauai.ccmc.gsfc.nasa.gov/DONKI/view/WSA-ENLIL/13031/-1',\n",
       "    'impactList': [{'isGlancingBlow': False,\n",
       "      'location': 'STEREO B',\n",
       "      'arrivalTime': '2017-09-08T22:41Z'}],\n",
       "    'cmeIDs': ['2017-09-06T10:00:00-CME-001',\n",
       "     '2017-09-06T12:24:00-CME-001',\n",
       "     '2017-09-06T13:09:00-CME-001']}]}]"
      ]
     },
     "execution_count": 241,
     "metadata": {},
     "output_type": "execute_result"
    }
   ],
   "source": [
    "data[0]['cmeAnalyses']#[0]['enlilList'][0]#['link']"
   ]
  },
  {
   "cell_type": "code",
   "execution_count": 240,
   "id": "6ee46a78-f8f0-48e2-9c29-0b45c3caddfb",
   "metadata": {},
   "outputs": [
    {
     "data": {
      "text/plain": [
       "{'activityID': '2017-09-07T22:54:00-CME-001',\n",
       " 'catalog': 'M2M_CATALOG',\n",
       " 'startTime': '2017-09-07T22:54Z',\n",
       " 'sourceLocation': '',\n",
       " 'activeRegionNum': None,\n",
       " 'link': 'https://kauai.ccmc.gsfc.nasa.gov/DONKI/view/CME/13079/-1',\n",
       " 'note': 'Very faint and narrow CME, very roughly measured in SWPC_CAT. Only appeared in Cor2 difference imaging, and the source is unknown.',\n",
       " 'instruments': [{'displayName': 'STEREO A: SECCHI/COR2'},\n",
       "  {'displayName': 'SOHO: LASCO/C3'}],\n",
       " 'cmeAnalyses': [{'time21_5': '2017-09-08T09:53Z',\n",
       "   'latitude': 20.0,\n",
       "   'longitude': -71.0,\n",
       "   'halfAngle': 20.0,\n",
       "   'speed': 282.0,\n",
       "   'type': 'S',\n",
       "   'isMostAccurate': True,\n",
       "   'note': '',\n",
       "   'levelOfData': 0,\n",
       "   'link': 'https://kauai.ccmc.gsfc.nasa.gov/DONKI/view/CMEAnalysis/13080/-1',\n",
       "   'enlilList': None}],\n",
       " 'linkedEvents': None}"
      ]
     },
     "execution_count": 240,
     "metadata": {},
     "output_type": "execute_result"
    }
   ],
   "source": [
    "data[5]"
   ]
  },
  {
   "cell_type": "code",
   "execution_count": null,
   "id": "55a2c78e-136b-453e-b9a3-851972367cdb",
   "metadata": {},
   "outputs": [],
   "source": []
  },
  {
   "cell_type": "code",
   "execution_count": null,
   "id": "5072bdc9-793f-4597-8c6f-07727d29b2ea",
   "metadata": {},
   "outputs": [],
   "source": []
  },
  {
   "cell_type": "code",
   "execution_count": null,
   "id": "0582cef0-dc3d-462f-9f25-427ff51b65a0",
   "metadata": {},
   "outputs": [],
   "source": []
  },
  {
   "cell_type": "code",
   "execution_count": null,
   "id": "b18479a5-c69e-4f70-879c-75e7f5bc73d8",
   "metadata": {},
   "outputs": [],
   "source": []
  },
  {
   "cell_type": "code",
   "execution_count": null,
   "id": "24cdbc4b-c303-49c7-aa21-ac6413802240",
   "metadata": {},
   "outputs": [],
   "source": []
  },
  {
   "cell_type": "code",
   "execution_count": null,
   "id": "178f3986-e5ad-4bb8-bcc4-1f96ce329697",
   "metadata": {},
   "outputs": [],
   "source": []
  },
  {
   "cell_type": "code",
   "execution_count": null,
   "id": "d3fabcc7-c3e2-4173-b3dd-e76e2ac67572",
   "metadata": {},
   "outputs": [],
   "source": []
  },
  {
   "cell_type": "code",
   "execution_count": null,
   "id": "ac43277b-7fa6-4d87-b0b0-c42b24fdd388",
   "metadata": {},
   "outputs": [],
   "source": []
  },
  {
   "cell_type": "code",
   "execution_count": null,
   "id": "42bab113-263b-4439-b42d-f0c82c2b1d11",
   "metadata": {},
   "outputs": [],
   "source": []
  },
  {
   "cell_type": "code",
   "execution_count": null,
   "id": "ff53ab80-e33b-4e44-af8f-7f7e1d3bd9b9",
   "metadata": {},
   "outputs": [],
   "source": []
  },
  {
   "cell_type": "code",
   "execution_count": null,
   "id": "12e96edf-4535-4b82-8edf-7c38f377973a",
   "metadata": {},
   "outputs": [],
   "source": []
  },
  {
   "cell_type": "code",
   "execution_count": null,
   "id": "294e189e-b09f-4b27-b39c-81331b63957e",
   "metadata": {},
   "outputs": [],
   "source": []
  },
  {
   "cell_type": "code",
   "execution_count": null,
   "id": "32486b9c-ab0d-4546-984c-a7933b0753b3",
   "metadata": {},
   "outputs": [],
   "source": []
  },
  {
   "cell_type": "code",
   "execution_count": null,
   "id": "4c5a8fcb-6d78-4b06-a641-2e738cc1ffd6",
   "metadata": {},
   "outputs": [],
   "source": []
  },
  {
   "cell_type": "code",
   "execution_count": null,
   "id": "9a2cc301-9a0f-4649-a42a-7c70bfaa1589",
   "metadata": {},
   "outputs": [],
   "source": []
  },
  {
   "cell_type": "code",
   "execution_count": null,
   "id": "6425bf1d-1efe-4743-a298-857510dae71c",
   "metadata": {},
   "outputs": [],
   "source": []
  },
  {
   "cell_type": "code",
   "execution_count": null,
   "id": "5f9a8192-6f00-4a84-b8d1-c2c239629c19",
   "metadata": {},
   "outputs": [],
   "source": []
  },
  {
   "cell_type": "code",
   "execution_count": null,
   "id": "0e84fa0e-b157-4611-b3da-f61ac4ebca70",
   "metadata": {},
   "outputs": [],
   "source": []
  },
  {
   "cell_type": "code",
   "execution_count": null,
   "id": "ba995454-ebf2-4f36-840d-1a578229c487",
   "metadata": {},
   "outputs": [],
   "source": []
  },
  {
   "cell_type": "code",
   "execution_count": null,
   "id": "3a04c34d-2974-4cd4-8f87-e71ca5cf21bb",
   "metadata": {},
   "outputs": [],
   "source": []
  },
  {
   "cell_type": "code",
   "execution_count": null,
   "id": "8bdece73-feb2-4797-be50-79858caea1c9",
   "metadata": {},
   "outputs": [],
   "source": []
  },
  {
   "cell_type": "code",
   "execution_count": null,
   "id": "f5d2096d-0318-4189-8597-0bab12ed02d3",
   "metadata": {},
   "outputs": [],
   "source": []
  },
  {
   "cell_type": "code",
   "execution_count": null,
   "id": "f37de70b-84ed-438b-83b5-e3ff410d3cf7",
   "metadata": {},
   "outputs": [],
   "source": []
  },
  {
   "cell_type": "code",
   "execution_count": null,
   "id": "aaeeafea-da10-4110-8ca8-e337f983e0ea",
   "metadata": {},
   "outputs": [],
   "source": []
  },
  {
   "cell_type": "code",
   "execution_count": null,
   "id": "47828b11-3dd2-480e-8fbb-ff7b71c2f68e",
   "metadata": {},
   "outputs": [],
   "source": []
  },
  {
   "cell_type": "code",
   "execution_count": 227,
   "id": "e50c1918-592a-4d82-a073-33f8168f55e5",
   "metadata": {},
   "outputs": [
    {
     "data": {
      "text/plain": [
       "'https://kauai.ccmc.gsfc.nasa.gov/DONKI/view/WSA-ENLIL/13031/-1'"
      ]
     },
     "execution_count": 227,
     "metadata": {},
     "output_type": "execute_result"
    }
   ],
   "source": [
    "data[0]['cmeAnalyses'][0]['enlilList'][0]['link']"
   ]
  },
  {
   "cell_type": "code",
   "execution_count": 229,
   "id": "383c398d-ed0a-41eb-a820-8efb5178a6d8",
   "metadata": {},
   "outputs": [
    {
     "name": "stdout",
     "output_type": "stream",
     "text": [
      "[{'time21_5': '2017-09-06T11:43Z', 'latitude': -8.0, 'longitude': 83.0, 'halfAngle': 24.0, 'speed': 260.0, 'type': 'S', 'isMostAccurate': True, 'note': '', 'levelOfData': 0, 'link': 'https://kauai.ccmc.gsfc.nasa.gov/DONKI/view/CMEAnalysis/13027/-1', 'enlilList': [{'modelCompletionTime': '2017-09-06T23:47Z', 'au': 2.0, 'estimatedShockArrivalTime': '2017-09-08T18:35Z', 'estimatedDuration': 32.0, 'rmin_re': 5.5, 'kp_18': None, 'kp_90': 4, 'kp_135': 5, 'kp_180': 6, 'isEarthGB': False, 'link': 'https://kauai.ccmc.gsfc.nasa.gov/DONKI/view/WSA-ENLIL/13031/-1', 'impactList': [{'isGlancingBlow': False, 'location': 'STEREO B', 'arrivalTime': '2017-09-08T22:41Z'}], 'cmeIDs': ['2017-09-06T10:00:00-CME-001', '2017-09-06T12:24:00-CME-001', '2017-09-06T13:09:00-CME-001']}]}]\n",
      "[{'time21_5': '2017-09-06T14:57Z', 'latitude': -15.0, 'longitude': 23.0, 'halfAngle': 44.0, 'speed': 1238.0, 'type': 'O', 'isMostAccurate': True, 'note': '', 'levelOfData': 1, 'link': 'https://kauai.ccmc.gsfc.nasa.gov/DONKI/view/CMEAnalysis/13032/-1', 'enlilList': [{'modelCompletionTime': '2017-09-06T23:47Z', 'au': 2.0, 'estimatedShockArrivalTime': '2017-09-08T18:35Z', 'estimatedDuration': 32.0, 'rmin_re': 5.5, 'kp_18': None, 'kp_90': 4, 'kp_135': 5, 'kp_180': 6, 'isEarthGB': False, 'link': 'https://kauai.ccmc.gsfc.nasa.gov/DONKI/view/WSA-ENLIL/13031/-1', 'impactList': [{'isGlancingBlow': False, 'location': 'STEREO B', 'arrivalTime': '2017-09-08T22:41Z'}], 'cmeIDs': ['2017-09-06T10:00:00-CME-001', '2017-09-06T12:24:00-CME-001', '2017-09-06T13:09:00-CME-001']}]}, {'time21_5': '2017-09-06T14:03Z', 'latitude': -12.0, 'longitude': 28.0, 'halfAngle': 34.0, 'speed': 1816.0, 'type': 'O', 'isMostAccurate': False, 'note': \"LASCO images weren't available yet for this analysis, so it is preliminary.\", 'levelOfData': 0, 'link': 'https://kauai.ccmc.gsfc.nasa.gov/DONKI/view/CMEAnalysis/13014/-1', 'enlilList': None}, {'time21_5': '2017-09-06T14:03Z', 'latitude': -12.0, 'longitude': 28.0, 'halfAngle': 34.0, 'speed': 1881.0, 'type': 'O', 'isMostAccurate': False, 'note': '', 'levelOfData': 1, 'link': 'https://kauai.ccmc.gsfc.nasa.gov/DONKI/view/CMEAnalysis/13018/-1', 'enlilList': [{'modelCompletionTime': '2017-09-06T17:00Z', 'au': 2.0, 'estimatedShockArrivalTime': '2017-09-08T18:27Z', 'estimatedDuration': 38.2, 'rmin_re': 5.9, 'kp_18': None, 'kp_90': 3, 'kp_135': 4, 'kp_180': 5, 'isEarthGB': False, 'link': 'https://kauai.ccmc.gsfc.nasa.gov/DONKI/view/WSA-ENLIL/13017/-1', 'impactList': None, 'cmeIDs': ['2017-09-06T12:24:00-CME-001']}]}, {'time21_5': '2017-09-06T14:30Z', 'latitude': -14.0, 'longitude': 23.0, 'halfAngle': 43.0, 'speed': 1430.0, 'type': 'O', 'isMostAccurate': False, 'note': '', 'levelOfData': 1, 'link': 'https://kauai.ccmc.gsfc.nasa.gov/DONKI/view/CMEAnalysis/13025/-1', 'enlilList': [{'modelCompletionTime': '2017-09-06T21:58Z', 'au': 2.0, 'estimatedShockArrivalTime': '2017-09-08T18:49Z', 'estimatedDuration': 34.8, 'rmin_re': 5.5, 'kp_18': None, 'kp_90': 4, 'kp_135': 5, 'kp_180': 6, 'isEarthGB': False, 'link': 'https://kauai.ccmc.gsfc.nasa.gov/DONKI/view/WSA-ENLIL/13024/-1', 'impactList': None, 'cmeIDs': ['2017-09-06T12:24:00-CME-001']}]}]\n",
      "[{'time21_5': '2017-09-06T16:28Z', 'latitude': -4.0, 'longitude': 99.0, 'halfAngle': 30.0, 'speed': 1178.0, 'type': 'O', 'isMostAccurate': True, 'note': '', 'levelOfData': 0, 'link': 'https://kauai.ccmc.gsfc.nasa.gov/DONKI/view/CMEAnalysis/13029/-1', 'enlilList': [{'modelCompletionTime': '2017-09-06T23:47Z', 'au': 2.0, 'estimatedShockArrivalTime': '2017-09-08T18:35Z', 'estimatedDuration': 32.0, 'rmin_re': 5.5, 'kp_18': None, 'kp_90': 4, 'kp_135': 5, 'kp_180': 6, 'isEarthGB': False, 'link': 'https://kauai.ccmc.gsfc.nasa.gov/DONKI/view/WSA-ENLIL/13031/-1', 'impactList': [{'isGlancingBlow': False, 'location': 'STEREO B', 'arrivalTime': '2017-09-08T22:41Z'}], 'cmeIDs': ['2017-09-06T10:00:00-CME-001', '2017-09-06T12:24:00-CME-001', '2017-09-06T13:09:00-CME-001']}]}]\n",
      "[{'time21_5': '2017-09-07T16:24Z', 'latitude': -13.0, 'longitude': 51.0, 'halfAngle': 13.0, 'speed': 597.0, 'type': 'C', 'isMostAccurate': True, 'note': 'Seen best in C2 and C3.  Seen as a partial halo in Cor2.', 'levelOfData': 0, 'link': 'https://kauai.ccmc.gsfc.nasa.gov/DONKI/view/CMEAnalysis/13048/-1', 'enlilList': [{'modelCompletionTime': '2017-09-08T20:29Z', 'au': 2.0, 'estimatedShockArrivalTime': None, 'estimatedDuration': None, 'rmin_re': None, 'kp_18': None, 'kp_90': None, 'kp_135': None, 'kp_180': None, 'isEarthGB': False, 'link': 'https://kauai.ccmc.gsfc.nasa.gov/DONKI/view/WSA-ENLIL/13078/-1', 'impactList': None, 'cmeIDs': ['2017-09-07T10:48:00-CME-001', '2017-09-07T15:12:00-CME-001']}]}]\n",
      "[{'time21_5': '2017-09-07T22:15Z', 'latitude': -16.0, 'longitude': 53.0, 'halfAngle': 16.0, 'speed': 477.0, 'type': 'S', 'isMostAccurate': True, 'note': 'Measurements made the next day, after more images are available.', 'levelOfData': 0, 'link': 'https://kauai.ccmc.gsfc.nasa.gov/DONKI/view/CMEAnalysis/13077/-1', 'enlilList': [{'modelCompletionTime': '2017-09-08T20:29Z', 'au': 2.0, 'estimatedShockArrivalTime': None, 'estimatedDuration': None, 'rmin_re': None, 'kp_18': None, 'kp_90': None, 'kp_135': None, 'kp_180': None, 'isEarthGB': False, 'link': 'https://kauai.ccmc.gsfc.nasa.gov/DONKI/view/WSA-ENLIL/13078/-1', 'impactList': None, 'cmeIDs': ['2017-09-07T10:48:00-CME-001', '2017-09-07T15:12:00-CME-001']}]}, {'time21_5': '2017-09-07T21:18Z', 'latitude': -14.0, 'longitude': 54.0, 'halfAngle': 15.0, 'speed': 560.0, 'type': 'C', 'isMostAccurate': False, 'note': 'Preliminary measurement with four frames of C3.', 'levelOfData': 0, 'link': 'https://kauai.ccmc.gsfc.nasa.gov/DONKI/view/CMEAnalysis/13050/-1', 'enlilList': None}]\n",
      "[{'time21_5': '2017-09-08T09:53Z', 'latitude': 20.0, 'longitude': -71.0, 'halfAngle': 20.0, 'speed': 282.0, 'type': 'S', 'isMostAccurate': True, 'note': '', 'levelOfData': 0, 'link': 'https://kauai.ccmc.gsfc.nasa.gov/DONKI/view/CMEAnalysis/13080/-1', 'enlilList': None}]\n",
      "[{'time21_5': '2017-09-08T06:43Z', 'latitude': -4.0, 'longitude': 51.0, 'halfAngle': 21.0, 'speed': 395.0, 'type': 'S', 'isMostAccurate': True, 'note': '', 'levelOfData': 0, 'link': 'https://kauai.ccmc.gsfc.nasa.gov/DONKI/view/CMEAnalysis/13070/-1', 'enlilList': None}]\n"
     ]
    }
   ],
   "source": [
    "for event in data:\n",
    "    print(event['cmeAnalyses'])"
   ]
  },
  {
   "cell_type": "code",
   "execution_count": null,
   "id": "c1d85a18-a31d-47ff-bfeb-0f8cf57e33fc",
   "metadata": {},
   "outputs": [],
   "source": []
  },
  {
   "cell_type": "code",
   "execution_count": null,
   "id": "3c5942e0-d420-4bfe-ba3e-b1e18b5cea1f",
   "metadata": {},
   "outputs": [],
   "source": []
  },
  {
   "cell_type": "code",
   "execution_count": null,
   "id": "ddff525b-a75c-408a-abba-b472664cdbe3",
   "metadata": {},
   "outputs": [],
   "source": []
  },
  {
   "cell_type": "code",
   "execution_count": 193,
   "id": "f79bafd7-b66b-4d7e-8526-4de2ef5a2d09",
   "metadata": {},
   "outputs": [
    {
     "data": {
      "text/plain": [
       "'https://kauai.ccmc.gsfc.nasa.gov/DONKI/view/CMEAnalysis/19176/-1'"
      ]
     },
     "execution_count": 193,
     "metadata": {},
     "output_type": "execute_result"
    }
   ],
   "source": [
    "data[n]['cmeAnalyses'][0]['link']"
   ]
  },
  {
   "cell_type": "code",
   "execution_count": 90,
   "id": "a204fe13-bf80-4a38-8241-8244241896df",
   "metadata": {},
   "outputs": [],
   "source": [
    "data[n]['linkedEvents']"
   ]
  },
  {
   "cell_type": "code",
   "execution_count": 91,
   "id": "239cddb1-f794-4d1d-aa62-6535512a6ac4",
   "metadata": {},
   "outputs": [
    {
     "data": {
      "text/plain": [
       "{'activityID': '2022-02-13T14:24:00-CME-001',\n",
       " 'catalog': 'M2M_CATALOG',\n",
       " 'startTime': '2022-02-13T14:24Z',\n",
       " 'sourceLocation': '',\n",
       " 'activeRegionNum': None,\n",
       " 'link': 'https://kauai.ccmc.gsfc.nasa.gov/DONKI/view/CME/19174/-1',\n",
       " 'note': 'Faint event w/o clear source location (source is probably behind the W limb - possibly a faint eruption behind the NW limb in AIA 304 after 12:00Z)',\n",
       " 'instruments': [{'displayName': 'SOHO: LASCO/C2'},\n",
       "  {'displayName': 'STEREO A: SECCHI/COR2'}],\n",
       " 'cmeAnalyses': [{'time21_5': '2022-02-14T00:44Z',\n",
       "   'latitude': 4.0,\n",
       "   'longitude': 100.0,\n",
       "   'halfAngle': 31.0,\n",
       "   'speed': 344.0,\n",
       "   'type': 'S',\n",
       "   'isMostAccurate': True,\n",
       "   'note': 'This measurement is using the potential source location as well as the best fit between SOHO LASCO C2/C3 and STEREO A COR2 in SWPC_CAT. The CME seems to decelerate in later imagery.',\n",
       "   'levelOfData': 0,\n",
       "   'link': 'https://kauai.ccmc.gsfc.nasa.gov/DONKI/view/CMEAnalysis/19176/-1',\n",
       "   'enlilList': [{'modelCompletionTime': '2022-02-14T17:41Z',\n",
       "     'au': 2.0,\n",
       "     'estimatedShockArrivalTime': None,\n",
       "     'estimatedDuration': None,\n",
       "     'rmin_re': None,\n",
       "     'kp_18': None,\n",
       "     'kp_90': None,\n",
       "     'kp_135': None,\n",
       "     'kp_180': None,\n",
       "     'isEarthGB': False,\n",
       "     'link': 'https://kauai.ccmc.gsfc.nasa.gov/DONKI/view/WSA-ENLIL/19177/-1',\n",
       "     'impactList': [{'isGlancingBlow': False,\n",
       "       'location': 'Mars',\n",
       "       'arrivalTime': '2022-02-19T04:00Z'},\n",
       "      {'isGlancingBlow': False,\n",
       "       'location': 'OSIRIS-REx',\n",
       "       'arrivalTime': '2022-02-18T18:00Z'}],\n",
       "     'cmeIDs': ['2022-02-13T14:24:00-CME-001']},\n",
       "    {'modelCompletionTime': '2022-02-14T20:43Z',\n",
       "     'au': 2.0,\n",
       "     'estimatedShockArrivalTime': None,\n",
       "     'estimatedDuration': None,\n",
       "     'rmin_re': None,\n",
       "     'kp_18': None,\n",
       "     'kp_90': None,\n",
       "     'kp_135': None,\n",
       "     'kp_180': None,\n",
       "     'isEarthGB': False,\n",
       "     'link': 'https://kauai.ccmc.gsfc.nasa.gov/DONKI/view/WSA-ENLIL/19183/-1',\n",
       "     'impactList': [{'isGlancingBlow': False,\n",
       "       'location': 'Mars',\n",
       "       'arrivalTime': '2022-02-18T16:00Z'},\n",
       "      {'isGlancingBlow': False,\n",
       "       'location': 'OSIRIS-REx',\n",
       "       'arrivalTime': '2022-02-18T06:00Z'}],\n",
       "     'cmeIDs': ['2022-02-13T02:36:00-CME-001',\n",
       "      '2022-02-13T14:24:00-CME-001',\n",
       "      '2022-02-13T16:48:00-CME-001']}]},\n",
       "  {'time21_5': '2022-02-13T22:24Z',\n",
       "   'latitude': 8.0,\n",
       "   'longitude': 122.0,\n",
       "   'halfAngle': 30.0,\n",
       "   'speed': 440.0,\n",
       "   'type': 'S',\n",
       "   'isMostAccurate': False,\n",
       "   'note': 'Fant event w/o a clear source, so longitude is very approximate.',\n",
       "   'levelOfData': 0,\n",
       "   'link': 'https://kauai.ccmc.gsfc.nasa.gov/DONKI/view/CMEAnalysis/19175/-1',\n",
       "   'enlilList': None}],\n",
       " 'linkedEvents': None}"
      ]
     },
     "execution_count": 91,
     "metadata": {},
     "output_type": "execute_result"
    }
   ],
   "source": [
    "data[n]"
   ]
  },
  {
   "cell_type": "code",
   "execution_count": null,
   "id": "d2f9f140-6864-42b8-8010-36b690bd2075",
   "metadata": {},
   "outputs": [],
   "source": []
  },
  {
   "cell_type": "code",
   "execution_count": null,
   "id": "86596a86-9627-44a6-8195-c31054174080",
   "metadata": {},
   "outputs": [],
   "source": []
  },
  {
   "cell_type": "raw",
   "id": "1a72076f-e8f6-4910-9d48-efa1d0c87e90",
   "metadata": {},
   "source": [
    "!pip install beautifulsoup4"
   ]
  },
  {
   "cell_type": "code",
   "execution_count": 96,
   "id": "a0fc678f-973d-47c4-9591-5df970edc608",
   "metadata": {},
   "outputs": [],
   "source": [
    "from bs4 import BeautifulSoup as bs\n",
    "import requests\n",
    "import os.path as path"
   ]
  },
  {
   "cell_type": "code",
   "execution_count": 245,
   "id": "966bdcd5-c0d3-41a9-9749-61d35a1149fe",
   "metadata": {},
   "outputs": [
    {
     "data": {
      "text/plain": [
       "'https://kauai.ccmc.gsfc.nasa.gov/DONKI/view/WSA-ENLIL/13031/-1'"
      ]
     },
     "execution_count": 245,
     "metadata": {},
     "output_type": "execute_result"
    }
   ],
   "source": [
    "cme_link_gif = data[0]['cmeAnalyses'][0]['enlilList'][0]['link']\n",
    "cme_link_gif"
   ]
  },
  {
   "cell_type": "code",
   "execution_count": 246,
   "id": "335f016c-14e0-4fab-b212-d8ea27bf7808",
   "metadata": {},
   "outputs": [],
   "source": [
    "soup = bs(requests.get(cme_link_gif).content, 'html.parser')\n",
    "              \n",
    "#    urls = []\n",
    " #   for row in soup.find('select', attrs={'id': 'county', \n",
    "  #                                        'name': 's[cc_id]', \n",
    "   #                                       'class': 'wide'}).find_all('option'):\n",
    "    #    city = row.get_text().lower()\n",
    "     #   urls.append(city)"
   ]
  },
  {
   "cell_type": "code",
   "execution_count": 109,
   "id": "404eb33a-02e4-4dc5-bbb0-b559814df5d3",
   "metadata": {},
   "outputs": [
    {
     "data": {
      "text/plain": [
       "[]"
      ]
     },
     "execution_count": 109,
     "metadata": {},
     "output_type": "execute_result"
    }
   ],
   "source": [
    "soup.find_all('Inner Planets Link')"
   ]
  },
  {
   "cell_type": "code",
   "execution_count": 121,
   "id": "cdfb961f-3769-4989-b1a5-61f5492c893f",
   "metadata": {},
   "outputs": [],
   "source": [
    "soup.find(r'<a href=\"http://iswa.gsfc.nasa.gov')"
   ]
  },
  {
   "cell_type": "raw",
   "id": "a62e3bc8-05c5-4575-b4be-cf9b6066377c",
   "metadata": {},
   "source": [
    "for a in soup.find_all('a'):\n",
    "    if 'iswa.gsfc.nasa.gov' in a:\n",
    "        print(a, '\\n')"
   ]
  },
  {
   "cell_type": "raw",
   "id": "8280b906-ae1a-486c-a07b-f4685b52b6b2",
   "metadata": {},
   "source": [
    "gifs_list = []\n",
    "for a in soup.find_all('a'):\n",
    "    if 'gif' in a.get('href'):\n",
    "        gifs_list.append(a.get('href'))\n",
    "print(gifs_list)   "
   ]
  },
  {
   "cell_type": "code",
   "execution_count": 140,
   "id": "2c0b1c2e-1955-4047-8421-6fae7cc93806",
   "metadata": {},
   "outputs": [
    {
     "data": {
      "text/plain": [
       "True"
      ]
     },
     "execution_count": 140,
     "metadata": {},
     "output_type": "execute_result"
    }
   ],
   "source": [
    "import re\n",
    "'Earth Impact:' in str(soup)"
   ]
  },
  {
   "cell_type": "code",
   "execution_count": 158,
   "id": "cfd3e658-d3c2-4a83-8ad4-6b8ae26f1c03",
   "metadata": {},
   "outputs": [
    {
     "name": "stdout",
     "output_type": "stream",
     "text": [
      "None\n"
     ]
    }
   ],
   "source": [
    "print(re.match(r'Earth Impact:', str(soup)))"
   ]
  },
  {
   "cell_type": "code",
   "execution_count": 248,
   "id": "7581a64a-b9f8-454c-a27d-7af4e8408935",
   "metadata": {},
   "outputs": [
    {
     "data": {
      "text/plain": [
       "\n",
       "<html>\n",
       "<head>\n",
       "<link href=\"/DONKI/resources/css/styles.css\" media=\"all\" rel=\"stylesheet\" type=\"text/css\"/>\n",
       "<title>\n",
       "    View Space Weather Activity\n",
       "</title>\n",
       "</head>\n",
       "<body>\n",
       "<table align=\"left\" border=\"1\" cellpadding=\"2\" cellspacing=\"2\" width=\"100%\">\n",
       "<tr>\n",
       "<td align=\"left\" colspan=\"2\">\n",
       "<!DOCTYPE html PUBLIC \"-//W3C//DTD HTML 4.01 Transitional//EN\" \"http://www.w3.org/TR/html4/loose.dtd\">\n",
       "\n",
       "<html>\n",
       "<head>\n",
       "<meta content=\"text/html; charset=utf-8\" http-equiv=\"Content-Type\"/>\n",
       "<meta content=\"CCMC DONKI Application\" name=\"description\"/>\n",
       "<meta content=\"Code674\" name=\"orgcode\"/>\n",
       "<meta content=\"Dr. Masha Kuznetsova\" name=\"rno\"/>\n",
       "<meta content=\"Dr. Masha Kuznetsova\" name=\"content-owner\"/>\n",
       "<meta content=\"Chiu Wiegand\" name=\"webmaster\"/>\n",
       "<title>DONKI Header</title>\n",
       "<link href=\"https://webtools.ccmc.gsfc.nasa.gov/favicon.ico\" rel=\"shortcut icon\" type=\"image/x-icon\"/>\n",
       "<link href=\"https://webtools.ccmc.gsfc.nasa.gov/favicon.ico\" rel=\"icon\" type=\"image/x-icon\"/>\n",
       "<script>\n",
       "  (function(i,s,o,g,r,a,m){i['GoogleAnalyticsObject']=r;i[r]=i[r]||function(){\n",
       "  (i[r].q=i[r].q||[]).push(arguments)},i[r].l=1*new Date();a=s.createElement(o),\n",
       "  m=s.getElementsByTagName(o)[0];a.async=1;a.src=g;m.parentNode.insertBefore(a,m)\n",
       "  })(window,document,'script','//www.google-analytics.com/analytics.js','ga');\n",
       "\n",
       "  ga('create', 'UA-43747106-1', 'auto');\n",
       "  ga('send', 'pageview');\n",
       "</script>\n",
       "<script id=\"_fed_an_ua_tag\" language=\"javascript\" src=\"https://dap.digitalgov.gov/Universal-Federated-Analytics-Min.js?agency=NASA&amp;subagency=GSFC&amp;yt=true&amp;dclink=true\"></script>\n",
       "</head>\n",
       "<body>\n",
       "<h1>\n",
       "<a href=\"https://ccmc.gsfc.nasa.gov\" target=\"_blank\"><img src=\"/DONKI/resources/images/ccmcLogo.gif\"/></a>\n",
       "\t\tSpace Weather Database Of Notifications, Knowledge, Information (DONKI)\n",
       "\t</h1>\n",
       "</body>\n",
       "</html>\n",
       "</td>\n",
       "</tr>\n",
       "<tr>\n",
       "<td valign=\"top\">\n",
       "<!DOCTYPE html PUBLIC \"-//W3C//DTD HTML 4.01 Transitional//EN\" \"http://www.w3.org/TR/html4/loose.dtd\">\n",
       "\n",
       "<html>\n",
       "<head>\n",
       "<meta content=\"text/html; charset=utf-8\" http-equiv=\"Content-Type\"/>\n",
       "<title>Menu Page</title>\n",
       "</head>\n",
       "<body>\n",
       "<h4>Go to:</h4>\n",
       "<ul>\n",
       "<li><a href=\"https://ccmc.gsfc.nasa.gov/donki\" target=\"_blank\"> About DONKI</a></li>\n",
       "<li><a href=\"/DONKI/\"> DONKI Home</a></li>\n",
       "<li><a href=\"/DONKI/search/\"> Search Space Weather Activity</a></li>\n",
       "<li><a href=\"/DONKI/search/alerts\"> Search Notification Archive</a></li>\n",
       "<!-- sec:authorize access=\"hasIpAddress('169.154.198.0/24') or hasIpAddress('128.183.0.0/16') or hasIpAddress('198.120.0.0/16') or hasIpAddress('128.154.0.0/16') or hasIpAddress('156.68.0.0/16') or hasIpAddress('10.250.0.0/16')\"-->\n",
       "<li><a href=\"/DONKI/login\"> Login</a></li>\n",
       "</ul>\n",
       "</body>\n",
       "</html>\n",
       "</td>\n",
       "<td width=\"80%\">\n",
       "<!DOCTYPE html PUBLIC \"-//W3C//DTD HTML 4.01 Transitional//EN\" \"http://www.w3.org/TR/html4/loose.dtd\">\n",
       "\n",
       "<html>\n",
       "<script>\n",
       "\tfunction confirmDeleteLink() {\n",
       "\t\tvar confirmMessage = \"Are you sure you want to delete the link activity?\";\n",
       "\n",
       "\t\tif (confirm(confirmMessage) == false) {\n",
       "\t\t\treturn false;\n",
       "\t\t} else {\n",
       "\t\t\treturn true;\n",
       "\t\t}\n",
       "\t}\n",
       "</script>\n",
       "<head>\n",
       "<meta content=\"text/html; charset=utf-8\" http-equiv=\"Content-Type\"/>\n",
       "<title>View SW Activity</title>\n",
       "</head>\n",
       "<body>\n",
       "<table width=\"100%\">\n",
       "<tr>\n",
       "<td>\n",
       "<b>WSA-ENLIL+Cone Model For 2.0 AU with Completion Time:\n",
       "\t\t2017-09-06T23:47Z</b>\n",
       "<br/>\n",
       "<br/>\n",
       "<b>Model Inputs:</b>\n",
       "<br/>\n",
       "<a href=\" /DONKI/view/CME/13026/1 \">2017-09-06T10:00:00-CME-001</a>\n",
       "with <a href=\" /DONKI/view/CMEAnalysis/13027/1 \">CME\n",
       "\t\t\tAnalysis</a>:  \n",
       "Lon.=83.0, Lat.=-8.0, Speed=260.0, HalfAngle=24.0, Time21.5=2017-09-06T11:43Z <br/>\n",
       "<a href=\" /DONKI/view/CME/13013/2 \">2017-09-06T12:24:00-CME-001</a>\n",
       "with <a href=\" /DONKI/view/CMEAnalysis/13032/1 \">CME\n",
       "\t\t\tAnalysis</a>:  \n",
       "Lon.=23.0, Lat.=-15.0, Speed=1238.0, HalfAngle=44.0, Time21.5=2017-09-06T14:57Z <br/>\n",
       "<a href=\" /DONKI/view/CME/13028/1 \">2017-09-06T13:09:00-CME-001</a>\n",
       "with <a href=\" /DONKI/view/CMEAnalysis/13029/1 \">CME\n",
       "\t\t\tAnalysis</a>:  \n",
       "Lon.=99.0, Lat.=-4.0, Speed=1178.0, HalfAngle=30.0, Time21.5=2017-09-06T16:28Z <br/>\n",
       "<br/>\n",
       "<b>Model Outputs:</b>\n",
       "<br/>\n",
       "Earth Impact:<br/>\n",
       "\t\n",
       "\t\t \n",
       "\tEarth Shock Arrival Time = 2017-09-08T18:35Z (+- 7 hours)\n",
       "\t [PE: 20.1 hr]\n",
       "\t\t<br/>\n",
       "\t\t\n",
       "\tDuration of disturbance (hr) = 32.0 (+- 8 hours)<br/>\n",
       "\t\t\n",
       "\t\t\n",
       "\tMinimum magnetopause standoff distance: Rmin(Re) = 5.5<br/>\n",
       "\t\t\n",
       "\t\t\n",
       "\t\tPossible Kp index:<br/>\n",
       "\t\t\t\n",
       "\t\t\t\n",
       "\t\t(kp)90=4<br/>\n",
       "\t\t\t\n",
       "\t\t\t\n",
       "\t\t(kp)135=5<br/>\n",
       "\t\t\t\n",
       "\t\t\t\n",
       "\t\t(kp)180=6<br/>\n",
       "<br/>\n",
       "\t\n",
       "\t\n",
       "Other Location(s) Impact:<br/>\n",
       "\t\n",
       "\tSTEREO B with estimated shock arrival time 2017-09-08T22:41Z \n",
       "\t\n",
       "\t\t\t\n",
       "\t\t\t\n",
       "\t\t\t\n",
       "\t\t\t\t\n",
       "\t\t\t\n",
       "\t\t\n",
       "\t\t<br/>\n",
       "<br/>\n",
       "\t\n",
       "\tInner Planets Link = <a href=\"http://iswa.gsfc.nasa.gov/downloads/20170906_145700_2.0_anim.tim-den.gif\">http://iswa.gsfc.nasa.gov/downloads/20170906_145700_2.0_anim.tim-den.gif</a>\n",
       "<br/>\n",
       "\t\n",
       "\tInner Planets Link = <a href=\"http://iswa.gsfc.nasa.gov/downloads/20170906_145700_2.0_anim.tim-vel.gif\">http://iswa.gsfc.nasa.gov/downloads/20170906_145700_2.0_anim.tim-vel.gif</a>\n",
       "<br/>\n",
       "\t\n",
       "\tInner Planets Link = <a href=\"http://iswa.gsfc.nasa.gov/downloads/20170906_145700_2.0_anim.tim-den-Stereo_A.gif\">http://iswa.gsfc.nasa.gov/downloads/20170906_145700_2.0_anim.tim-den-Stereo_A.gif</a>\n",
       "<br/>\n",
       "\t\n",
       "\tInner Planets Link = <a href=\"http://iswa.gsfc.nasa.gov/downloads/20170906_145700_2.0_anim.tim-den-Stereo_B.gif\">http://iswa.gsfc.nasa.gov/downloads/20170906_145700_2.0_anim.tim-den-Stereo_B.gif</a>\n",
       "<br/>\n",
       "\t\n",
       "\tInner Planets Link = <a href=\"http://iswa.gsfc.nasa.gov/downloads/20170906_145700_2.0_anim.tim-vel-Stereo_A.gif\">http://iswa.gsfc.nasa.gov/downloads/20170906_145700_2.0_anim.tim-vel-Stereo_A.gif</a>\n",
       "<br/>\n",
       "\t\n",
       "\tInner Planets Link = <a href=\"http://iswa.gsfc.nasa.gov/downloads/20170906_145700_2.0_anim.tim-vel-Stereo_B.gif\">http://iswa.gsfc.nasa.gov/downloads/20170906_145700_2.0_anim.tim-vel-Stereo_B.gif</a>\n",
       "<br/>\n",
       "\t\n",
       "\tTimelines Link = <a href=\"http://iswa.gsfc.nasa.gov/downloads/20170906_145700_2.0_ENLIL_CONE_timeline.gif\">http://iswa.gsfc.nasa.gov/downloads/20170906_145700_2.0_ENLIL_CONE_timeline.gif</a>\n",
       "<br/>\n",
       "\t\n",
       "\tTimelines Link = <a href=\"http://iswa.gsfc.nasa.gov/downloads/20170906_145700_2.0_ENLIL_CONE_Kp_timeline.gif\">http://iswa.gsfc.nasa.gov/downloads/20170906_145700_2.0_ENLIL_CONE_Kp_timeline.gif</a>\n",
       "<br/>\n",
       "\t\n",
       "\tTimelines Link = <a href=\"http://iswa.gsfc.nasa.gov/downloads/20170906_145700_2.0_ENLIL_CONE_STA_timeline.gif\">http://iswa.gsfc.nasa.gov/downloads/20170906_145700_2.0_ENLIL_CONE_STA_timeline.gif</a>\n",
       "<br/>\n",
       "\t\n",
       "\tTimelines Link = <a href=\"http://iswa.gsfc.nasa.gov/downloads/20170906_145700_2.0_ENLIL_CONE_STB_timeline.gif\">http://iswa.gsfc.nasa.gov/downloads/20170906_145700_2.0_ENLIL_CONE_STB_timeline.gif</a>\n",
       "<br/>\n",
       "\t\n",
       "\tTimelines Link = <a href=\"http://iswa.gsfc.nasa.gov/downloads/20170906_145700_2.0_ENLIL_CONE_Mars_timeline.gif\">http://iswa.gsfc.nasa.gov/downloads/20170906_145700_2.0_ENLIL_CONE_Mars_timeline.gif</a>\n",
       "<br/>\n",
       "\t\n",
       "\tTimelines Link = <a href=\"http://iswa.gsfc.nasa.gov/downloads/20170906_145700_2.0_ENLIL_CONE_Merc_timeline.gif\">http://iswa.gsfc.nasa.gov/downloads/20170906_145700_2.0_ENLIL_CONE_Merc_timeline.gif</a>\n",
       "<br/>\n",
       "\t\n",
       "\tTimelines Link = <a href=\"http://iswa.gsfc.nasa.gov/downloads/20170906_145700_2.0_ENLIL_CONE_Spitz_timeline.gif\">http://iswa.gsfc.nasa.gov/downloads/20170906_145700_2.0_ENLIL_CONE_Spitz_timeline.gif</a>\n",
       "<br/>\n",
       "\t\n",
       "\tTimelines Link = <a href=\"http://iswa.gsfc.nasa.gov/downloads/20170906_145700_2.0_ENLIL_CONE_Venus_timeline.gif\">http://iswa.gsfc.nasa.gov/downloads/20170906_145700_2.0_ENLIL_CONE_Venus_timeline.gif</a>\n",
       "<br/>\n",
       "\t\n",
       "\tTimelines Link = <a href=\"http://iswa.gsfc.nasa.gov/downloads/20170906_145700_2.0_ENLIL_CONE_Osiris_timeline.gif\">http://iswa.gsfc.nasa.gov/downloads/20170906_145700_2.0_ENLIL_CONE_Osiris_timeline.gif</a>\n",
       "<br/>\n",
       "<br/>Note   \n",
       "\t:<br/>\n",
       "<br/>\n",
       "<br/>\n",
       "<i>Submitted on 2017-09-06T23:58Z by Andrea\n",
       "\t\tMinot </i>\n",
       "<br/>\n",
       "<br/>\n",
       "\n",
       "\t\n",
       "\t\n",
       "\t\t\n",
       "\t\tA Notification with ID <a href=\" /DONKI/view/Alert/13035/1 \">\n",
       "\t\t\t\t20170907-AL-002</a> was sent on 2017-09-07T01:11Z<br/>\n",
       "</td>\n",
       "</tr>\n",
       "<tr><td><br/><br/></td></tr>\n",
       "<!-- Display all comments related to this activity -->\n",
       "<tr>\n",
       "<td>Comments by users:</td>\n",
       "</tr>\n",
       "<tr>\n",
       "<td>0 comment received.</td>\n",
       "</tr>\n",
       "</table>\n",
       "</body>\n",
       "</html></td>\n",
       "</tr>\n",
       "<tr>\n",
       "<td align=\"left\" colspan=\"2\">\n",
       "<!DOCTYPE html PUBLIC \"-//W3C//DTD HTML 4.01 Transitional//EN\" \"http://www.w3.org/TR/html4/loose.dtd\">\n",
       "\n",
       "<html>\n",
       "<head>\n",
       "<meta content=\"text/html; charset=utf-8\" http-equiv=\"Content-Type\"/>\n",
       "<title>Insert title here</title>\n",
       "</head>\n",
       "<body>\n",
       "<p>\n",
       "<b>The Moon to Mars Space Weather Operations Office and other entities provide data to DONKI as a courtesy to the community.</b><br/>\n",
       "<b>By visiting this site, you acknowledge that you understand and agree to the <a href=\"/DONKI/Disclaimer\">Important Disclaimer Notice</a></b>\n",
       "<br/><br/>\n",
       "<b>\n",
       "If you are looking for the official U.S. Government forecast for space weather, please go to NOAA's Space Weather Prediction Center (<a href=\"https://swpc.noaa.gov\" target=\"_blank\">https://swpc.noaa.gov</a>). This \"Experimental Research Information\" consists of preliminary NASA research products and should be interpreted and used accordingly.\n",
       "</b>\n",
       "</p>\n",
       "<p style=\"padding-bottom: 0pt; padding-top: 0pt;text-align: center \">\n",
       "Curator: <a href=\"mailto:chiu.wiegand@nasa.gov \" title=\"mailto: chiu.wiegand@nasa.gov?\">Chiu Wiegand</a> |\n",
       "NASA Official: <a href=\"mailto:Maria.M.Kuznetsova@nasa.gov?subject=DONKI\" title=\"mailto:Maria.M.Kuznetsova@nasa.gov?subject=DONKI\">Dr. Masha Kuznetsova</a> |\n",
       "<a href=\"https://www.nasa.gov/about/highlights/HP_Privacy.html\" onclick=\"window.open(this.href); return false;\" onkeypress=\"window.open(this.href); return\n",
       "false;\" title=\"https://www.nasa.gov/about/highlights/HP_Privacy.html\">Privacy and Security Notices</a> |\n",
       "<a href=\"https://ccmc.gsfc.nasa.gov/consent/\" onclick=\"window.open(this.href); return false;\" onkeypress=\"window.open(this.href); return\n",
       "false;\" title=\"https://ccmc.gsfc.nasa.gov/consent/\">CCMC Data Collection Consent Agreement</a>\n",
       "</p>\n",
       "</body>\n",
       "</html>\n",
       "</td>\n",
       "</tr>\n",
       "</table>\n",
       "</body>\n",
       "</html>"
      ]
     },
     "execution_count": 248,
     "metadata": {},
     "output_type": "execute_result"
    }
   ],
   "source": [
    "soup"
   ]
  },
  {
   "cell_type": "code",
   "execution_count": 247,
   "id": "bd565d99-0096-4c46-9c3e-d8bf4dce945a",
   "metadata": {},
   "outputs": [
    {
     "ename": "AttributeError",
     "evalue": "'NoneType' object has no attribute 'group'",
     "output_type": "error",
     "traceback": [
      "\u001b[0;31m---------------------------------------------------------------------------\u001b[0m",
      "\u001b[0;31mAttributeError\u001b[0m                            Traceback (most recent call last)",
      "Input \u001b[0;32mIn [247]\u001b[0m, in \u001b[0;36m<module>\u001b[0;34m\u001b[0m\n\u001b[0;32m----> 1\u001b[0m impact \u001b[38;5;241m=\u001b[39m \u001b[43mre\u001b[49m\u001b[38;5;241;43m.\u001b[39;49m\u001b[43msearch\u001b[49m\u001b[43m(\u001b[49m\u001b[38;5;124;43mr\u001b[39;49m\u001b[38;5;124;43m'\u001b[39;49m\u001b[38;5;124;43mEarth Impact:<br/>\u001b[39;49m\u001b[38;5;124;43m\\\u001b[39;49m\u001b[38;5;124;43mr\u001b[39;49m\u001b[38;5;124;43m\\\u001b[39;49m\u001b[38;5;124;43mn\u001b[39;49m\u001b[38;5;124;43m\\\u001b[39;49m\u001b[38;5;124;43mt\u001b[39;49m\u001b[38;5;124;43m\\\u001b[39;49m\u001b[38;5;124;43mr\u001b[39;49m\u001b[38;5;124;43m\\\u001b[39;49m\u001b[38;5;124;43mn\u001b[39;49m\u001b[38;5;124;43m\\\u001b[39;49m\u001b[38;5;124;43mt\u001b[39;49m\u001b[38;5;124;43m\\\u001b[39;49m\u001b[38;5;124;43mr\u001b[39;49m\u001b[38;5;124;43m\\\u001b[39;49m\u001b[38;5;124;43mn\u001b[39;49m\u001b[38;5;124;43m\\\u001b[39;49m\u001b[38;5;124;43mt(.+?).<\u001b[39;49m\u001b[38;5;124;43m'\u001b[39;49m\u001b[43m,\u001b[49m\u001b[43m \u001b[49m\u001b[38;5;28;43mstr\u001b[39;49m\u001b[43m(\u001b[49m\u001b[43msoup\u001b[49m\u001b[43m)\u001b[49m\u001b[43m)\u001b[49m\u001b[38;5;241;43m.\u001b[39;49m\u001b[43mgroup\u001b[49m(\u001b[38;5;241m1\u001b[39m)\n\u001b[1;32m      2\u001b[0m impact\n",
      "\u001b[0;31mAttributeError\u001b[0m: 'NoneType' object has no attribute 'group'"
     ]
    }
   ],
   "source": [
    "impact = re.search(r'Earth Impact:<br/>\\r\\n\\t\\r\\n\\t\\r\\n\\t(.+?).<', str(soup)).group(1)\n",
    "impact"
   ]
  },
  {
   "cell_type": "code",
   "execution_count": 173,
   "id": "681c504d-a188-4c50-a808-7f40c692512a",
   "metadata": {},
   "outputs": [
    {
     "name": "stdout",
     "output_type": "stream",
     "text": [
      "No or little impact to Earth\n"
     ]
    }
   ],
   "source": [
    "print(impact)"
   ]
  },
  {
   "cell_type": "raw",
   "id": "a306d5ce-2237-483c-ad24-d98ae28a0351",
   "metadata": {},
   "source": [
    "str(soup)"
   ]
  },
  {
   "cell_type": "code",
   "execution_count": 157,
   "id": "14b0c499-a665-4252-b812-ca586eb17690",
   "metadata": {},
   "outputs": [
    {
     "data": {
      "text/plain": [
       "[<b>WSA-ENLIL+Cone Model For 2.0 AU with Completion Time:\n",
       " \t\t2022-02-14T17:41Z</b>,\n",
       " <b>Model Inputs:</b>,\n",
       " <b>Model Outputs:</b>,\n",
       " <b>No Notification has been sent for this activity yet.</b>,\n",
       " <b>The Moon to Mars Space Weather Operations Office and other entities provide data to DONKI as a courtesy to the community.</b>,\n",
       " <b>By visiting this site, you acknowledge that you understand and agree to the <a href=\"/DONKI/Disclaimer\">Important Disclaimer Notice</a></b>,\n",
       " <b>\n",
       " If you are looking for the official U.S. Government forecast for space weather, please go to NOAA's Space Weather Prediction Center (<a href=\"https://swpc.noaa.gov\" target=\"_blank\">https://swpc.noaa.gov</a>). This \"Experimental Research Information\" consists of preliminary NASA research products and should be interpreted and used accordingly.\n",
       " </b>]"
      ]
     },
     "execution_count": 157,
     "metadata": {},
     "output_type": "execute_result"
    }
   ],
   "source": [
    "soup.find_all('b')"
   ]
  },
  {
   "cell_type": "raw",
   "id": "97096e41-26ef-4ed4-aa4a-dff931c7cb41",
   "metadata": {},
   "source": [
    "print(soup.prettify())"
   ]
  },
  {
   "cell_type": "code",
   "execution_count": 175,
   "id": "55295700-09cf-430c-9543-2a343552f1b2",
   "metadata": {},
   "outputs": [
    {
     "name": "stdout",
     "output_type": "stream",
     "text": [
      "Collecting Pillow\n",
      "  Downloading Pillow-9.0.1-cp38-cp38-manylinux_2_17_x86_64.manylinux2014_x86_64.whl (4.3 MB)\n",
      "\u001b[K     |████████████████████████████████| 4.3 MB 3.1 MB/s eta 0:00:01\n",
      "\u001b[?25hInstalling collected packages: Pillow\n",
      "Successfully installed Pillow-9.0.1\n"
     ]
    }
   ],
   "source": [
    "!pip install Pillow"
   ]
  },
  {
   "cell_type": "code",
   "execution_count": 197,
   "id": "584e1ba3-11e2-410f-a391-c0108c0589d5",
   "metadata": {},
   "outputs": [
    {
     "name": "stdout",
     "output_type": "stream",
     "text": [
      "https://kauai.ccmc.gsfc.nasa.gov/DONKI/view/WSA-ENLIL/19167/-1\n"
     ]
    }
   ],
   "source": [
    "cme_link_gif = data[-10]['cmeAnalyses'][0]['enlilList'][0]['link']\n",
    "soup = bs(requests.get(cme_link_gif).content, 'html.parser')\n",
    "# List of gifs\n",
    "gifs_list = []\n",
    "for a in soup.find_all('a'):\n",
    "    if 'gif' in a.get('href'):\n",
    "        gifs_list.append(a.get('href'))\n",
    "# Last CME gif\n",
    "last_cme_gif = gifs_list[0]\n",
    "last_cme_gif\n",
    "print(cme_link_gif)"
   ]
  },
  {
   "cell_type": "code",
   "execution_count": 196,
   "id": "21e7911d-0418-4610-88ce-d096b174d3cc",
   "metadata": {},
   "outputs": [
    {
     "data": {
      "text/html": [
       "<img src=http://iswa.gsfc.nasa.gov/downloads/20220212_180400_2.0_anim.tim-den.gif>"
      ],
      "text/plain": [
       "<IPython.core.display.HTML object>"
      ]
     },
     "execution_count": 196,
     "metadata": {},
     "output_type": "execute_result"
    }
   ],
   "source": [
    "from IPython.display import HTML\n",
    "HTML(f'<img src={str(last_cme_gif)}>')"
   ]
  },
  {
   "cell_type": "code",
   "execution_count": 194,
   "id": "2900144e-1c91-46e7-84c1-418b18d8ae34",
   "metadata": {},
   "outputs": [
    {
     "name": "stdout",
     "output_type": "stream",
     "text": [
      "<_io.TextIOWrapper name='last_100_events/2022-02-16T13:36:00-CME-001.json' mode='r' encoding='UTF-8'>\n"
     ]
    }
   ],
   "source": [
    "last_cme_path = 'last_100_events/2022-02-16T13:36:00-CME-001.json'\n",
    "last_cme = open(last_cme_path, \"r\")\n",
    "print(last_cme)"
   ]
  },
  {
   "cell_type": "code",
   "execution_count": null,
   "id": "df5c1ae4-7608-4d13-b958-d1419128249a",
   "metadata": {},
   "outputs": [],
   "source": []
  },
  {
   "cell_type": "code",
   "execution_count": 252,
   "id": "6ee0cc5f-8cbb-4026-a5ee-f9be2793a9e4",
   "metadata": {},
   "outputs": [
    {
     "data": {
      "text/plain": [
       "{'activityID': '2017-09-06T10:00:00-CME-001',\n",
       " 'catalog': 'M2M_CATALOG',\n",
       " 'startTime': '2017-09-06T10:00Z',\n",
       " 'sourceLocation': 'S09W88',\n",
       " 'activeRegionNum': 12676,\n",
       " 'link': 'https://kauai.ccmc.gsfc.nasa.gov/DONKI/view/CME/13026/-1',\n",
       " 'note': '',\n",
       " 'instruments': [{'displayName': 'SOHO: LASCO/C2'},\n",
       "  {'displayName': 'SOHO: LASCO/C3'}],\n",
       " 'cmeAnalyses': [{'time21_5': '2017-09-06T11:43Z',\n",
       "   'latitude': -8.0,\n",
       "   'longitude': 83.0,\n",
       "   'halfAngle': 24.0,\n",
       "   'speed': 260.0,\n",
       "   'type': 'S',\n",
       "   'isMostAccurate': True,\n",
       "   'note': '',\n",
       "   'levelOfData': 0,\n",
       "   'link': 'https://kauai.ccmc.gsfc.nasa.gov/DONKI/view/CMEAnalysis/13027/-1',\n",
       "   'enlilList': [{'modelCompletionTime': '2017-09-06T23:47Z',\n",
       "     'au': 2.0,\n",
       "     'estimatedShockArrivalTime': '2017-09-08T18:35Z',\n",
       "     'estimatedDuration': 32.0,\n",
       "     'rmin_re': 5.5,\n",
       "     'kp_18': None,\n",
       "     'kp_90': 4,\n",
       "     'kp_135': 5,\n",
       "     'kp_180': 6,\n",
       "     'isEarthGB': False,\n",
       "     'link': 'https://kauai.ccmc.gsfc.nasa.gov/DONKI/view/WSA-ENLIL/13031/-1',\n",
       "     'impactList': [{'isGlancingBlow': False,\n",
       "       'location': 'STEREO B',\n",
       "       'arrivalTime': '2017-09-08T22:41Z'}],\n",
       "     'cmeIDs': ['2017-09-06T10:00:00-CME-001',\n",
       "      '2017-09-06T12:24:00-CME-001',\n",
       "      '2017-09-06T13:09:00-CME-001']}]}],\n",
       " 'linkedEvents': None}"
      ]
     },
     "execution_count": 252,
     "metadata": {},
     "output_type": "execute_result"
    }
   ],
   "source": [
    "data[0]"
   ]
  },
  {
   "cell_type": "code",
   "execution_count": 251,
   "id": "3688bd25-35f6-44f5-831e-7ab76220f6e0",
   "metadata": {},
   "outputs": [
    {
     "data": {
      "text/plain": [
       "[{'modelCompletionTime': '2017-09-06T23:47Z',\n",
       "  'au': 2.0,\n",
       "  'estimatedShockArrivalTime': '2017-09-08T18:35Z',\n",
       "  'estimatedDuration': 32.0,\n",
       "  'rmin_re': 5.5,\n",
       "  'kp_18': None,\n",
       "  'kp_90': 4,\n",
       "  'kp_135': 5,\n",
       "  'kp_180': 6,\n",
       "  'isEarthGB': False,\n",
       "  'link': 'https://kauai.ccmc.gsfc.nasa.gov/DONKI/view/WSA-ENLIL/13031/-1',\n",
       "  'impactList': [{'isGlancingBlow': False,\n",
       "    'location': 'STEREO B',\n",
       "    'arrivalTime': '2017-09-08T22:41Z'}],\n",
       "  'cmeIDs': ['2017-09-06T10:00:00-CME-001',\n",
       "   '2017-09-06T12:24:00-CME-001',\n",
       "   '2017-09-06T13:09:00-CME-001']}]"
      ]
     },
     "execution_count": 251,
     "metadata": {},
     "output_type": "execute_result"
    }
   ],
   "source": [
    "data[0]['cmeAnalyses'][0]['enlilList']"
   ]
  },
  {
   "cell_type": "code",
   "execution_count": null,
   "id": "3a5f329f-b2a5-44f1-9397-9fc15315ae66",
   "metadata": {},
   "outputs": [],
   "source": []
  },
  {
   "cell_type": "code",
   "execution_count": 256,
   "id": "b2d54ba9-d817-454f-904a-7bb33888124d",
   "metadata": {},
   "outputs": [
    {
     "data": {
      "text/plain": [
       "{'activityID': '2022-02-07T02:00:00-CME-001',\n",
       " 'catalog': 'M2M_CATALOG',\n",
       " 'startTime': '2022-02-07T02:00Z',\n",
       " 'sourceLocation': 'N25E40',\n",
       " 'activeRegionNum': None,\n",
       " 'link': 'https://kauai.ccmc.gsfc.nasa.gov/DONKI/view/CME/19113/-1',\n",
       " 'note': 'This CME is faintly visible in the NNE of STEREO A COR2 and the NE of SOHO LASCO C2/C3. The source is an eruption starting around 2022-02-07T01:27Z in the NE as seen in SDO AIA 304. It can also be seen as dimming in STEREO A EUVI 195 just east of the central meridian, as seen from the perspective of STEREO A.',\n",
       " 'instruments': [{'displayName': 'SOHO: LASCO/C2'},\n",
       "  {'displayName': 'SOHO: LASCO/C3'},\n",
       "  {'displayName': 'STEREO A: SECCHI/COR2'}],\n",
       " 'cmeAnalyses': [{'time21_5': '2022-02-07T09:58Z',\n",
       "   'latitude': 30.0,\n",
       "   'longitude': -38.0,\n",
       "   'halfAngle': 21.0,\n",
       "   'speed': 434.0,\n",
       "   'type': 'S',\n",
       "   'isMostAccurate': True,\n",
       "   'note': 'This CME was measured in SWPc_CAT using the best fit between SOHO LASCO C2/C3 and COR2A as well as knowledge of the source location.',\n",
       "   'levelOfData': 0,\n",
       "   'link': 'https://kauai.ccmc.gsfc.nasa.gov/DONKI/view/CMEAnalysis/19114/-1',\n",
       "   'enlilList': None}],\n",
       " 'linkedEvents': None}"
      ]
     },
     "execution_count": 256,
     "metadata": {},
     "output_type": "execute_result"
    }
   ],
   "source": [
    "data2[5]"
   ]
  },
  {
   "cell_type": "code",
   "execution_count": null,
   "id": "28eb1aeb-b762-45f3-bfd7-e9c291928657",
   "metadata": {},
   "outputs": [],
   "source": []
  },
  {
   "cell_type": "code",
   "execution_count": 273,
   "id": "00a97380-0b77-4ce9-88d7-301983cb9006",
   "metadata": {},
   "outputs": [
    {
     "data": {
      "text/plain": [
       "{'activityID': '2021-10-28T01:23:00-CME-001',\n",
       " 'catalog': 'M2M_CATALOG',\n",
       " 'startTime': '2021-10-28T01:23Z',\n",
       " 'sourceLocation': 'S26E02',\n",
       " 'activeRegionNum': 12887,\n",
       " 'link': 'https://kauai.ccmc.gsfc.nasa.gov/DONKI/view/CME/18094/-1',\n",
       " 'note': 'A very faint CME SW in COR2A, with unclear front. Source: beautiful eruption best seen in SDO/AIA 304 after 2021-10-27T21:54Z associated with C1.1 class flare from AR 2887 peaking at 2021-10-27T21:59Z (there were also two other lower C-class flares following shortly). Coronal signatures also include a faint dimming seen in AIA 193 and in EUVI 195 (after a data gap), eruption is also seen in AIA 171.',\n",
       " 'instruments': [{'displayName': 'STEREO A: SECCHI/COR2'},\n",
       "  {'displayName': 'SOHO: LASCO/C2'}],\n",
       " 'cmeAnalyses': [{'time21_5': '2021-10-28T12:59Z',\n",
       "   'latitude': -11.0,\n",
       "   'longitude': -5.0,\n",
       "   'halfAngle': 40.0,\n",
       "   'speed': 282.0,\n",
       "   'type': 'S',\n",
       "   'isMostAccurate': True,\n",
       "   'note': '',\n",
       "   'levelOfData': 0,\n",
       "   'link': 'https://kauai.ccmc.gsfc.nasa.gov/DONKI/view/CMEAnalysis/18095/-1',\n",
       "   'enlilList': [{'modelCompletionTime': '2021-10-28T18:34Z',\n",
       "     'au': 2.0,\n",
       "     'estimatedShockArrivalTime': '2021-10-30T17:15Z',\n",
       "     'estimatedDuration': 28.4,\n",
       "     'rmin_re': 5.0,\n",
       "     'kp_18': None,\n",
       "     'kp_90': 6,\n",
       "     'kp_135': 7,\n",
       "     'kp_180': 8,\n",
       "     'isEarthGB': False,\n",
       "     'link': 'https://kauai.ccmc.gsfc.nasa.gov/DONKI/view/WSA-ENLIL/18114/-1',\n",
       "     'impactList': [{'isGlancingBlow': False,\n",
       "       'location': 'Parker Solar Probe',\n",
       "       'arrivalTime': '2021-10-30T06:54Z'},\n",
       "      {'isGlancingBlow': False,\n",
       "       'location': 'Solar Orbiter',\n",
       "       'arrivalTime': '2021-10-30T07:07Z'},\n",
       "      {'isGlancingBlow': False,\n",
       "       'location': 'STEREO A',\n",
       "       'arrivalTime': '2021-10-30T23:44Z'},\n",
       "      {'isGlancingBlow': False,\n",
       "       'location': 'STEREO B',\n",
       "       'arrivalTime': '2021-10-30T20:46Z'}],\n",
       "     'cmeIDs': ['2021-10-28T01:23:00-CME-001', '2021-10-28T15:53:00-CME-001']},\n",
       "    {'modelCompletionTime': '2021-10-28T20:32Z',\n",
       "     'au': 5.5,\n",
       "     'estimatedShockArrivalTime': '2021-10-30T16:54Z',\n",
       "     'estimatedDuration': 27.6,\n",
       "     'rmin_re': 4.9,\n",
       "     'kp_18': None,\n",
       "     'kp_90': 6,\n",
       "     'kp_135': 7,\n",
       "     'kp_180': 8,\n",
       "     'isEarthGB': False,\n",
       "     'link': 'https://kauai.ccmc.gsfc.nasa.gov/DONKI/view/WSA-ENLIL/18118/-1',\n",
       "     'impactList': [{'isGlancingBlow': False,\n",
       "       'location': 'Parker Solar Probe',\n",
       "       'arrivalTime': '2021-10-30T07:25Z'},\n",
       "      {'isGlancingBlow': False,\n",
       "       'location': 'Solar Orbiter',\n",
       "       'arrivalTime': '2021-10-30T06:55Z'},\n",
       "      {'isGlancingBlow': False,\n",
       "       'location': 'STEREO A',\n",
       "       'arrivalTime': '2021-10-30T23:33Z'},\n",
       "      {'isGlancingBlow': False,\n",
       "       'location': 'STEREO B',\n",
       "       'arrivalTime': '2021-10-30T20:28Z'}],\n",
       "     'cmeIDs': ['2021-10-28T01:23:00-CME-001',\n",
       "      '2021-10-28T15:53:00-CME-001']}]}],\n",
       " 'linkedEvents': [{'activityID': '2021-10-27T21:53:00-FLR-001'}]}"
      ]
     },
     "execution_count": 273,
     "metadata": {},
     "output_type": "execute_result"
    }
   ],
   "source": [
    "data2[1]"
   ]
  },
  {
   "cell_type": "code",
   "execution_count": null,
   "id": "79319ec9-580d-4c66-a15a-5b203d06e0e4",
   "metadata": {},
   "outputs": [],
   "source": []
  }
 ],
 "metadata": {
  "kernelspec": {
   "display_name": "Python 3",
   "language": "python",
   "name": "python3"
  },
  "language_info": {
   "codemirror_mode": {
    "name": "ipython",
    "version": 3
   },
   "file_extension": ".py",
   "mimetype": "text/x-python",
   "name": "python",
   "nbconvert_exporter": "python",
   "pygments_lexer": "ipython3",
   "version": "3.8.12"
  }
 },
 "nbformat": 4,
 "nbformat_minor": 5
}
