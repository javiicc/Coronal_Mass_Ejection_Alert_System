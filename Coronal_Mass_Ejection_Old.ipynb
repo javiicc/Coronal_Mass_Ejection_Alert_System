{
 "cells": [
  {
   "cell_type": "markdown",
   "id": "63618b86-9510-45a7-bcb9-81cd601f2e3b",
   "metadata": {},
   "source": [
    "# Exploring the NASA Coronal Mass Ejection API"
   ]
  },
  {
   "cell_type": "markdown",
   "id": "4c170b59-e62d-41ff-89f1-d0771a567bf1",
   "metadata": {},
   "source": [
    "[NASA Open APIs](https://api.nasa.gov/)\n",
    "\n",
    "[The Space Weather Database Of Notifications, Knowledge, Information (DONKI)](https://ccmc.gsfc.nasa.gov/donki/)\n",
    "\n",
    "[DONKI-webservices](https://ccmc.gsfc.nasa.gov/support/DONKI-webservices.php)"
   ]
  },
  {
   "cell_type": "code",
   "execution_count": 1,
   "id": "862729c5-f55c-4747-be80-e5a29700c6b2",
   "metadata": {},
   "outputs": [],
   "source": [
    "import requests"
   ]
  },
  {
   "cell_type": "code",
   "execution_count": 2,
   "id": "2f2056c3-8e16-40df-bbfe-69e49d394494",
   "metadata": {},
   "outputs": [],
   "source": [
    "params={'startDate': '2017-01-03',\n",
    "        'endDate': '2017-01-03'\n",
    "       }\n",
    "\n",
    "url = 'https://kauai.ccmc.gsfc.nasa.gov/DONKI/WS/get/CME?'\n",
    "r = requests.get(url, params) #, params\n",
    "data = r.json()"
   ]
  },
  {
   "cell_type": "code",
   "execution_count": 1,
   "id": "dbc36fb7-3143-41a1-a66f-cb4da4a566fd",
   "metadata": {},
   "outputs": [
    {
     "ename": "NameError",
     "evalue": "name 'data' is not defined",
     "output_type": "error",
     "traceback": [
      "\u001b[0;31m---------------------------------------------------------------------------\u001b[0m",
      "\u001b[0;31mNameError\u001b[0m                                 Traceback (most recent call last)",
      "\u001b[0;32m/tmp/ipykernel_6515/3264069240.py\u001b[0m in \u001b[0;36m<module>\u001b[0;34m\u001b[0m\n\u001b[0;32m----> 1\u001b[0;31m \u001b[0mlen\u001b[0m\u001b[0;34m(\u001b[0m\u001b[0mdata\u001b[0m\u001b[0;34m)\u001b[0m\u001b[0;34m\u001b[0m\u001b[0;34m\u001b[0m\u001b[0m\n\u001b[0m",
      "\u001b[0;31mNameError\u001b[0m: name 'data' is not defined"
     ]
    }
   ],
   "source": [
    "len(data)"
   ]
  },
  {
   "cell_type": "code",
   "execution_count": 3,
   "id": "dc99aa0c-fe20-4949-827a-3fa0d4eceedc",
   "metadata": {},
   "outputs": [
    {
     "data": {
      "text/plain": [
       "10"
      ]
     },
     "execution_count": 3,
     "metadata": {},
     "output_type": "execute_result"
    }
   ],
   "source": [
    "len(data[0])"
   ]
  },
  {
   "cell_type": "code",
   "execution_count": 4,
   "id": "02698307-8212-4560-9451-e940ab0858a1",
   "metadata": {},
   "outputs": [
    {
     "name": "stdout",
     "output_type": "stream",
     "text": [
      "activityID\n",
      "catalog\n",
      "startTime\n",
      "sourceLocation\n",
      "activeRegionNum\n",
      "link\n",
      "note\n",
      "instruments\n",
      "cmeAnalyses\n",
      "linkedEvents\n"
     ]
    }
   ],
   "source": [
    "for key in data[0]:\n",
    "    print(key)"
   ]
  },
  {
   "cell_type": "code",
   "execution_count": 5,
   "id": "c838cb20-6de9-4ffa-a24c-df681f652661",
   "metadata": {},
   "outputs": [
    {
     "data": {
      "text/plain": [
       "'2017-01-03T03:12:00-CME-001'"
      ]
     },
     "execution_count": 5,
     "metadata": {},
     "output_type": "execute_result"
    }
   ],
   "source": [
    "data[0]['activityID']"
   ]
  },
  {
   "cell_type": "code",
   "execution_count": 6,
   "id": "b978fccc-3ba6-4812-9f54-095a7a9fcd6b",
   "metadata": {},
   "outputs": [
    {
     "data": {
      "text/plain": [
       "'M2M_CATALOG'"
      ]
     },
     "execution_count": 6,
     "metadata": {},
     "output_type": "execute_result"
    }
   ],
   "source": [
    "data[0]['catalog']"
   ]
  },
  {
   "cell_type": "code",
   "execution_count": 7,
   "id": "23624ad4-637f-4e68-afa2-a7e8307db18e",
   "metadata": {},
   "outputs": [
    {
     "data": {
      "text/plain": [
       "'2017-01-03T03:12Z'"
      ]
     },
     "execution_count": 7,
     "metadata": {},
     "output_type": "execute_result"
    }
   ],
   "source": [
    "data[0]['startTime']"
   ]
  },
  {
   "cell_type": "code",
   "execution_count": 8,
   "id": "69f0c125-72b3-43ff-82ac-e0011f2b9edd",
   "metadata": {},
   "outputs": [
    {
     "data": {
      "text/plain": [
       "''"
      ]
     },
     "execution_count": 8,
     "metadata": {},
     "output_type": "execute_result"
    }
   ],
   "source": [
    "data[0]['sourceLocation']"
   ]
  },
  {
   "cell_type": "code",
   "execution_count": 9,
   "id": "8ebd2ef5-e1f8-431c-968c-25bce9bb50ca",
   "metadata": {},
   "outputs": [],
   "source": [
    "data[0]['activeRegionNum']"
   ]
  },
  {
   "cell_type": "code",
   "execution_count": 10,
   "id": "b5540f04-e9fe-45ea-871b-508d89b335b8",
   "metadata": {},
   "outputs": [
    {
     "data": {
      "text/plain": [
       "'https://kauai.ccmc.gsfc.nasa.gov/DONKI/view/CME/12056/-1'"
      ]
     },
     "execution_count": 10,
     "metadata": {},
     "output_type": "execute_result"
    }
   ],
   "source": [
    "data[0]['link']"
   ]
  },
  {
   "cell_type": "code",
   "execution_count": 11,
   "id": "26b25229-a70e-459b-9306-ea1a246e045f",
   "metadata": {},
   "outputs": [
    {
     "data": {
      "text/plain": [
       "'The CME has two stages, the first starting at 03:12Z and the second at 06:00Z. The second stage merges with the first stage and that is what is measured. The source is a small off limb eruption in the SE of SDO AIA 171 between 01:55Z and 02:43Z.'"
      ]
     },
     "execution_count": 11,
     "metadata": {},
     "output_type": "execute_result"
    }
   ],
   "source": [
    "data[0]['note']"
   ]
  },
  {
   "cell_type": "code",
   "execution_count": 12,
   "id": "cab52d6e-c0de-4049-8288-dfc9f6f2947a",
   "metadata": {},
   "outputs": [
    {
     "data": {
      "text/plain": [
       "[{'displayName': 'SOHO: LASCO/C2'}, {'displayName': 'SOHO: LASCO/C3'}]"
      ]
     },
     "execution_count": 12,
     "metadata": {},
     "output_type": "execute_result"
    }
   ],
   "source": [
    "data[0]['instruments']"
   ]
  },
  {
   "cell_type": "code",
   "execution_count": 13,
   "id": "bf62a90e-84ed-4436-9065-c13e411ad9a7",
   "metadata": {
    "tags": []
   },
   "outputs": [
    {
     "data": {
      "text/plain": [
       "[{'time21_5': '2017-01-03T13:08Z',\n",
       "  'latitude': -10.0,\n",
       "  'longitude': -105.0,\n",
       "  'halfAngle': 20.0,\n",
       "  'speed': 645.0,\n",
       "  'type': 'C',\n",
       "  'isMostAccurate': True,\n",
       "  'note': 'Measured using SOHO LASCO C3 imagery.',\n",
       "  'levelOfData': 0,\n",
       "  'link': 'https://kauai.ccmc.gsfc.nasa.gov/DONKI/view/CMEAnalysis/12059/-1',\n",
       "  'enlilList': [{'modelCompletionTime': '2017-01-03T21:57Z',\n",
       "    'au': 2.0,\n",
       "    'estimatedShockArrivalTime': None,\n",
       "    'estimatedDuration': None,\n",
       "    'rmin_re': None,\n",
       "    'kp_18': None,\n",
       "    'kp_90': None,\n",
       "    'kp_135': None,\n",
       "    'kp_180': None,\n",
       "    'isEarthGB': False,\n",
       "    'link': 'https://kauai.ccmc.gsfc.nasa.gov/DONKI/view/WSA-ENLIL/12061/-1',\n",
       "    'impactList': [{'isGlancingBlow': False,\n",
       "      'location': 'Spitzer',\n",
       "      'arrivalTime': '2017-01-06T07:31Z'},\n",
       "     {'isGlancingBlow': True,\n",
       "      'location': 'Mars',\n",
       "      'arrivalTime': '2017-01-07T06:00Z'},\n",
       "     {'isGlancingBlow': True,\n",
       "      'location': 'STEREO A',\n",
       "      'arrivalTime': '2017-01-06T00:00Z'}],\n",
       "    'cmeIDs': ['2017-01-03T03:12:00-CME-001']}]},\n",
       " {'time21_5': '2017-01-03T18:39Z',\n",
       "  'latitude': -12.0,\n",
       "  'longitude': -110.0,\n",
       "  'halfAngle': 13.0,\n",
       "  'speed': 270.0,\n",
       "  'type': 'S',\n",
       "  'isMostAccurate': False,\n",
       "  'note': '',\n",
       "  'levelOfData': 0,\n",
       "  'link': 'https://kauai.ccmc.gsfc.nasa.gov/DONKI/view/CMEAnalysis/12057/-1',\n",
       "  'enlilList': None}]"
      ]
     },
     "execution_count": 13,
     "metadata": {},
     "output_type": "execute_result"
    }
   ],
   "source": [
    "data[0]['cmeAnalyses']"
   ]
  },
  {
   "cell_type": "code",
   "execution_count": 14,
   "id": "f104b559-0a64-4a0e-b2e5-d92d819eab42",
   "metadata": {},
   "outputs": [],
   "source": [
    "data[0]['linkedEvents']"
   ]
  },
  {
   "cell_type": "markdown",
   "id": "43bf3936-1267-488f-ba4a-02fb9e0a2ba3",
   "metadata": {},
   "source": [
    "## CME Analysis"
   ]
  },
  {
   "cell_type": "code",
   "execution_count": 16,
   "id": "d767a8da-b16d-4cfc-bc9b-994f068a491c",
   "metadata": {},
   "outputs": [
    {
     "data": {
      "text/plain": [
       "2"
      ]
     },
     "execution_count": 16,
     "metadata": {},
     "output_type": "execute_result"
    }
   ],
   "source": [
    "len(data[0]['cmeAnalyses'])"
   ]
  },
  {
   "cell_type": "code",
   "execution_count": 18,
   "id": "66da6b5e-be57-4f14-a3d1-479b860e8d76",
   "metadata": {},
   "outputs": [
    {
     "data": {
      "text/plain": [
       "{'time21_5': '2017-01-03T13:08Z',\n",
       " 'latitude': -10.0,\n",
       " 'longitude': -105.0,\n",
       " 'halfAngle': 20.0,\n",
       " 'speed': 645.0,\n",
       " 'type': 'C',\n",
       " 'isMostAccurate': True,\n",
       " 'note': 'Measured using SOHO LASCO C3 imagery.',\n",
       " 'levelOfData': 0,\n",
       " 'link': 'https://kauai.ccmc.gsfc.nasa.gov/DONKI/view/CMEAnalysis/12059/-1',\n",
       " 'enlilList': [{'modelCompletionTime': '2017-01-03T21:57Z',\n",
       "   'au': 2.0,\n",
       "   'estimatedShockArrivalTime': None,\n",
       "   'estimatedDuration': None,\n",
       "   'rmin_re': None,\n",
       "   'kp_18': None,\n",
       "   'kp_90': None,\n",
       "   'kp_135': None,\n",
       "   'kp_180': None,\n",
       "   'isEarthGB': False,\n",
       "   'link': 'https://kauai.ccmc.gsfc.nasa.gov/DONKI/view/WSA-ENLIL/12061/-1',\n",
       "   'impactList': [{'isGlancingBlow': False,\n",
       "     'location': 'Spitzer',\n",
       "     'arrivalTime': '2017-01-06T07:31Z'},\n",
       "    {'isGlancingBlow': True,\n",
       "     'location': 'Mars',\n",
       "     'arrivalTime': '2017-01-07T06:00Z'},\n",
       "    {'isGlancingBlow': True,\n",
       "     'location': 'STEREO A',\n",
       "     'arrivalTime': '2017-01-06T00:00Z'}],\n",
       "   'cmeIDs': ['2017-01-03T03:12:00-CME-001']}]}"
      ]
     },
     "execution_count": 18,
     "metadata": {},
     "output_type": "execute_result"
    }
   ],
   "source": [
    "data[0]['cmeAnalyses'][0]"
   ]
  },
  {
   "cell_type": "code",
   "execution_count": 19,
   "id": "9e4de609-1ae6-4ee6-b097-ea7097dc9c6e",
   "metadata": {},
   "outputs": [
    {
     "data": {
      "text/plain": [
       "{'time21_5': '2017-01-03T18:39Z',\n",
       " 'latitude': -12.0,\n",
       " 'longitude': -110.0,\n",
       " 'halfAngle': 13.0,\n",
       " 'speed': 270.0,\n",
       " 'type': 'S',\n",
       " 'isMostAccurate': False,\n",
       " 'note': '',\n",
       " 'levelOfData': 0,\n",
       " 'link': 'https://kauai.ccmc.gsfc.nasa.gov/DONKI/view/CMEAnalysis/12057/-1',\n",
       " 'enlilList': None}"
      ]
     },
     "execution_count": 19,
     "metadata": {},
     "output_type": "execute_result"
    }
   ],
   "source": [
    "data[0]['cmeAnalyses'][1]"
   ]
  },
  {
   "cell_type": "code",
   "execution_count": null,
   "id": "9b1c8f9b-cc3b-4d15-bf45-771f83d89ba4",
   "metadata": {},
   "outputs": [],
   "source": []
  }
 ],
 "metadata": {
  "kernelspec": {
   "display_name": "Python 3",
   "language": "python",
   "name": "python3"
  },
  "language_info": {
   "codemirror_mode": {
    "name": "ipython",
    "version": 3
   },
   "file_extension": ".py",
   "mimetype": "text/x-python",
   "name": "python",
   "nbconvert_exporter": "python",
   "pygments_lexer": "ipython3",
   "version": "3.8.12"
  }
 },
 "nbformat": 4,
 "nbformat_minor": 5
}
