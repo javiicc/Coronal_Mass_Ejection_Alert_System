{
 "cells": [
  {
   "cell_type": "markdown",
   "id": "08d154a7-584a-49cc-acdd-83036ead0a8b",
   "metadata": {},
   "source": [
    "# Coronal Mass Ejection Alert\n",
    "\n",
    "API: [DONKI](https://ccmc.gsfc.nasa.gov/donki/) by NASA"
   ]
  },
  {
   "cell_type": "code",
   "execution_count": 1,
   "id": "f06fd36f-576b-4b13-acb7-791193745107",
   "metadata": {},
   "outputs": [],
   "source": [
    "import requests"
   ]
  },
  {
   "cell_type": "code",
   "execution_count": 5,
   "id": "703c615a-4126-446b-af1c-c46ee68838a3",
   "metadata": {},
   "outputs": [],
   "source": [
    "params={'date': '2022-02-14'}\n",
    "\n",
    "url = 'https://api.nasa.gov/DONKI/CME?startDate=2022-02-13&endDate=2022-02-14&api_key=DEMO_KEY'\n",
    "r = requests.get(url)  # , params\n",
    "data = r.json()"
   ]
  },
  {
   "cell_type": "code",
   "execution_count": 7,
   "id": "140faae7-49e5-41df-974e-9d2660c86226",
   "metadata": {},
   "outputs": [
    {
     "data": {
      "text/plain": [
       "4"
      ]
     },
     "execution_count": 7,
     "metadata": {},
     "output_type": "execute_result"
    }
   ],
   "source": [
    "len(data)"
   ]
  },
  {
   "cell_type": "code",
   "execution_count": 8,
   "id": "9a936df7-2f70-43a7-b5c1-6bdb896ff856",
   "metadata": {},
   "outputs": [
    {
     "data": {
      "text/plain": [
       "{'activityID': '2022-02-13T02:36:00-CME-001',\n",
       " 'catalog': 'M2M_CATALOG',\n",
       " 'startTime': '2022-02-13T02:36Z',\n",
       " 'sourceLocation': 'S17W96',\n",
       " 'activeRegionNum': 12940,\n",
       " 'link': 'https://kauai.ccmc.gsfc.nasa.gov/DONKI/view/CME/19156/-1',\n",
       " 'note': 'The CME coronal signatures are the associated flare from AR rotated behind the limb but not too far since we see both the opening of field lines on or behind the limb in AIA 171 and the erupting material well seen in AIA 193 and 304.',\n",
       " 'instruments': [{'displayName': 'SOHO: LASCO/C2'},\n",
       "  {'displayName': 'SOHO: LASCO/C3'},\n",
       "  {'displayName': 'STEREO A: SECCHI/COR2'}],\n",
       " 'cmeAnalyses': [{'time21_5': '2022-02-13T13:23Z',\n",
       "   'latitude': 0.0,\n",
       "   'longitude': 96.0,\n",
       "   'halfAngle': 43.0,\n",
       "   'speed': 314.0,\n",
       "   'type': 'S',\n",
       "   'isMostAccurate': True,\n",
       "   'note': '',\n",
       "   'levelOfData': 0,\n",
       "   'link': 'https://kauai.ccmc.gsfc.nasa.gov/DONKI/view/CMEAnalysis/19157/-1',\n",
       "   'enlilList': [{'modelCompletionTime': '2022-02-13T18:58Z',\n",
       "     'au': 2.0,\n",
       "     'estimatedShockArrivalTime': None,\n",
       "     'estimatedDuration': None,\n",
       "     'rmin_re': None,\n",
       "     'kp_18': None,\n",
       "     'kp_90': None,\n",
       "     'kp_135': None,\n",
       "     'kp_180': None,\n",
       "     'isEarthGB': False,\n",
       "     'link': 'https://kauai.ccmc.gsfc.nasa.gov/DONKI/view/WSA-ENLIL/19161/-1',\n",
       "     'impactList': [{'isGlancingBlow': True,\n",
       "       'location': 'Mars',\n",
       "       'arrivalTime': '2022-02-19T07:00Z'},\n",
       "      {'isGlancingBlow': True,\n",
       "       'location': 'OSIRIS-REx',\n",
       "       'arrivalTime': '2022-02-18T22:00Z'}],\n",
       "     'cmeIDs': ['2022-02-13T02:36:00-CME-001']},\n",
       "    {'modelCompletionTime': '2022-02-14T20:43Z',\n",
       "     'au': 2.0,\n",
       "     'estimatedShockArrivalTime': None,\n",
       "     'estimatedDuration': None,\n",
       "     'rmin_re': None,\n",
       "     'kp_18': None,\n",
       "     'kp_90': None,\n",
       "     'kp_135': None,\n",
       "     'kp_180': None,\n",
       "     'isEarthGB': False,\n",
       "     'link': 'https://kauai.ccmc.gsfc.nasa.gov/DONKI/view/WSA-ENLIL/19183/-1',\n",
       "     'impactList': [{'isGlancingBlow': False,\n",
       "       'location': 'Mars',\n",
       "       'arrivalTime': '2022-02-18T16:00Z'},\n",
       "      {'isGlancingBlow': False,\n",
       "       'location': 'OSIRIS-REx',\n",
       "       'arrivalTime': '2022-02-18T06:00Z'}],\n",
       "     'cmeIDs': ['2022-02-13T02:36:00-CME-001',\n",
       "      '2022-02-13T14:24:00-CME-001',\n",
       "      '2022-02-13T16:48:00-CME-001']}]}],\n",
       " 'linkedEvents': [{'activityID': '2022-02-13T00:48:00-FLR-001'}]}"
      ]
     },
     "execution_count": 8,
     "metadata": {},
     "output_type": "execute_result"
    }
   ],
   "source": [
    "data[0]"
   ]
  },
  {
   "cell_type": "code",
   "execution_count": null,
   "id": "20f5f078-f5aa-4e84-b2f0-80c0d42cfe22",
   "metadata": {},
   "outputs": [],
   "source": []
  }
 ],
 "metadata": {
  "kernelspec": {
   "display_name": "Python 3 (ipykernel)",
   "language": "python",
   "name": "python3"
  },
  "language_info": {
   "codemirror_mode": {
    "name": "ipython",
    "version": 3
   },
   "file_extension": ".py",
   "mimetype": "text/x-python",
   "name": "python",
   "nbconvert_exporter": "python",
   "pygments_lexer": "ipython3",
   "version": "3.9.7"
  }
 },
 "nbformat": 4,
 "nbformat_minor": 5
}
